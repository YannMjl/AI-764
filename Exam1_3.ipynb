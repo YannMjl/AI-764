{
  "nbformat": 4,
  "nbformat_minor": 0,
  "metadata": {
    "colab": {
      "name": "Exam1-3.ipynb",
      "provenance": []
    },
    "kernelspec": {
      "name": "python3",
      "display_name": "Python 3"
    },
    "accelerator": "GPU"
  },
  "cells": [
    {
      "cell_type": "markdown",
      "metadata": {
        "id": "7rOubrpZm-Wp"
      },
      "source": [
        "# You should be writing your code only between the **##YOUR CODE BEGINS** and **##YOUR CODE ENDS** in a code cell for a question"
      ]
    },
    {
      "cell_type": "markdown",
      "metadata": {
        "id": "BACKQY2NgMXC"
      },
      "source": [
        "# **Part 1) This is a Regression problem. The code below will read in the dataset.** "
      ]
    },
    {
      "cell_type": "code",
      "metadata": {
        "id": "lyJNr7KQgVEd",
        "colab": {
          "base_uri": "https://localhost:8080/"
        },
        "outputId": "b6467738-5568-4798-ab36-b001b236b6ac"
      },
      "source": [
        "#RUN THIS CELL, DO NOT CHANGE ANY CODE IN THIS CELL\n",
        "#The code below just reads in the data\n",
        "import pandas as pd\n",
        "\n",
        "#Get the data\n",
        "!pip install -U -q PyDrive\n",
        "\n",
        "#File ID\n",
        "f_id = '1qsp014GzJLQq6BrNtnVelUo33NLM9lcg'\n",
        "\n",
        "from pydrive.auth import GoogleAuth\n",
        "from pydrive.drive import GoogleDrive\n",
        "from google.colab import auth\n",
        "from oauth2client.client import GoogleCredentials\n",
        "import zipfile, os\n",
        "\n",
        "# Authenticate and create the PyDrive client.\n",
        "auth.authenticate_user()\n",
        "gauth = GoogleAuth()\n",
        "gauth.credentials = GoogleCredentials.get_application_default()\n",
        "drive = GoogleDrive(gauth)\n",
        "\n",
        "# Download the file\n",
        "dataFile = drive.CreateFile({'id': f_id})\n",
        "dataFile.GetContentFile('file3.csv')\n",
        "\n",
        "dataset = pd.read_csv('file3.csv')\n",
        "\n",
        "print(dataset.head())"
      ],
      "execution_count": null,
      "outputs": [
        {
          "output_type": "stream",
          "name": "stdout",
          "text": [
            "   Unnamed: 0        x1        x2        x3        x4        x5           y\n",
            "0           0 -0.579274  0.305763  0.250004  0.296727 -0.150400   28.098637\n",
            "1           1  0.426241  0.713785  1.154809 -0.801243 -0.220663   81.676676\n",
            "2           2 -0.278835 -1.032538  2.194766 -0.789030 -0.886804  171.485963\n",
            "3           3 -0.094141 -0.107288  1.193119 -2.748668 -0.936070   41.832180\n",
            "4           4 -0.623868  0.920848  1.870735 -1.158049  0.330941  135.412206\n"
          ]
        }
      ]
    },
    {
      "cell_type": "markdown",
      "metadata": {
        "id": "lnXy1mxqlAqk"
      },
      "source": [
        "**Q1) The features in the dataset are x1, x2, x3, x4, x5. Target column to be predicted is the column y. In the cell below you should assign these to X and y variabes. (5 points)** "
      ]
    },
    {
      "cell_type": "code",
      "metadata": {
        "id": "bggYiB3dl70j",
        "colab": {
          "base_uri": "https://localhost:8080/"
        },
        "outputId": "2b964bd0-a036-4b14-b71e-b43bf95ffcb5"
      },
      "source": [
        "##YOUR CODE BEGINS\n",
        "# Split the data into the features and the target \n",
        "dataset = pd.DataFrame(dataset)\n",
        "dataset = dataset.values\n",
        "# Features\n",
        "X = dataset[:, 1:4]  # Column 2 to 5: X1 to X4 from dataset\n",
        "# Target \n",
        "y = dataset[:, 5]    # Column 6 : Y from dataset\n",
        "\n",
        "##YOUR CODE ENDS\n",
        "print(X[0:5,:])\n",
        "print(y[0:5])"
      ],
      "execution_count": null,
      "outputs": [
        {
          "output_type": "stream",
          "name": "stdout",
          "text": [
            "[[-0.5792736   0.30576298  0.25000432]\n",
            " [ 0.42624066  0.71378528  1.15480867]\n",
            " [-0.2788354  -1.03253809  2.19476595]\n",
            " [-0.09414128 -0.10728797  1.19311861]\n",
            " [-0.62386771  0.92084822  1.87073479]]\n",
            "[-0.15039971 -0.22066262 -0.88680392 -0.93606983  0.33094097]\n"
          ]
        }
      ]
    },
    {
      "cell_type": "markdown",
      "metadata": {
        "id": "fITN6SronjMh"
      },
      "source": [
        "**We will now split the data into Training Set and Test Set**"
      ]
    },
    {
      "cell_type": "code",
      "metadata": {
        "id": "AiIGZl-VnrqD",
        "colab": {
          "base_uri": "https://localhost:8080/"
        },
        "outputId": "013f01e0-cf73-499a-c6c8-ae0bf8d9e23c"
      },
      "source": [
        "#RUN THIS CELL, DO NOT CHANGE ANY CODE IN THIS CELL\n",
        "from sklearn.model_selection import train_test_split\n",
        "X_train, X_test, y_train, y_test = train_test_split(X, y, test_size=0.3,random_state=48)\n",
        "print(X_train[0:5,:])"
      ],
      "execution_count": null,
      "outputs": [
        {
          "output_type": "stream",
          "name": "stdout",
          "text": [
            "[[-0.27788057 -1.1335841   0.81048203]\n",
            " [-0.35781506  0.68838607 -0.94086023]\n",
            " [ 0.40139981  0.13021316 -1.29316674]\n",
            " [-0.33866745  1.45052409 -1.19780196]\n",
            " [ 1.39768739 -1.74730623 -0.61427936]]\n"
          ]
        }
      ]
    },
    {
      "cell_type": "markdown",
      "metadata": {
        "id": "JWjrD9tWQ1jk"
      },
      "source": [
        "**Q2) Write the code in the cell below for defining the model, compile, and fit. For this question, you may want to try different model architectures and hyperparameters, however when you submit there should be just one model defined (10 points).**"
      ]
    },
    {
      "cell_type": "code",
      "metadata": {
        "id": "IPWiAHnGRNCk",
        "colab": {
          "base_uri": "https://localhost:8080/"
        },
        "outputId": "03819b9d-14b3-4729-e73f-b8b18e23769a"
      },
      "source": [
        "##YOUR CODE BEGINS\n",
        "import tensorflow as tf\n",
        "from sklearn import preprocessing\n",
        "from sklearn.linear_model import LinearRegression\n",
        "from sklearn.preprocessing import StandardScaler\n",
        "regressor=LinearRegression()\n",
        "regressor.fit(x,y)\n",
        "\n",
        "# Now lets define our Tensorflow model\n",
        "model=tf.keras.models.Sequential([\n",
        "  tf.keras.layers.Dense(units=1,input_shape=[1])\n",
        "])\n",
        "\n",
        "# Specifying learning rate and momentum with desired optimizer\n",
        "model.compile(\n",
        "        optimizer=tf.keras.optimizers.SGD(0.01, 0.9),loss='mse'\n",
        "        )\n",
        "\n",
        "#learning rate scheduler\n",
        "def learning_rate_scheduler(epoch,lr):\n",
        "  if epoch>=50:\n",
        "    return 0.0001\n",
        "  return 0.001\n",
        "\n",
        "\n",
        "# Normalize the features\n",
        "# Normalizing or standardization.\n",
        "scaler = StandardScaler()\n",
        "X_norm = scaler.fit_transform(X) \n",
        "\n",
        "print(\"X_nomm.shape:\", X_norm.shape)\n",
        "\n",
        "# learning rate scheduler \n",
        "# calling learning_rate_scheduler function \n",
        "scheduler=tf.keras.callbacks.LearningRateScheduler(learning_rate_scheduler)\n",
        "\n",
        "# Train the model\n",
        "r = model.fit(\n",
        "    x,y, epochs=10, validation_split=0.3, verbose=0, callbacks=[scheduler]\n",
        "    ) \n",
        "\n",
        "# get model weights\n",
        "weights = model.layers[0].get_weights()\n",
        "\n",
        "print(\"Intercept: \", regressor.intercept_)\n",
        "print(\"Coefficient of Regressin :\", regressor.coef_)\n",
        "print(\"Weoghts :\", weights)\n",
        "##YOUR CODE ENDS"
      ],
      "execution_count": null,
      "outputs": [
        {
          "output_type": "stream",
          "name": "stdout",
          "text": [
            "X_nomm.shape: (10000, 3)\n",
            "Intercept:  0.029264537392055354\n",
            "Coefficient of Regressin : [-7.55345661e-06]\n",
            "Weoghts : [array([[nan]], dtype=float32), array([nan], dtype=float32)]\n"
          ]
        }
      ]
    },
    {
      "cell_type": "markdown",
      "metadata": {
        "id": "Ee1YepK-RbBT"
      },
      "source": [
        "**Q3) In the cell below, write the code for plotting the training and validation (testing) loss plot (5 points)**"
      ]
    },
    {
      "cell_type": "code",
      "metadata": {
        "id": "hZHtkPoPR3TV",
        "colab": {
          "base_uri": "https://localhost:8080/",
          "height": 265
        },
        "outputId": "1766f821-8497-4d7a-fbc1-5563ebf8e492"
      },
      "source": [
        "##YOUR CODE BEGINS\n",
        "import matplotlib.pyplot as plt\n",
        "# Ploting loss per iteration\n",
        "plt.plot(r.history['loss'], label='loss')\n",
        "plt.plot(r.history['val_loss'], label='val_loss')\n",
        "plt.legend()\n",
        "plt.show()\n",
        "\n",
        "##YOUR CODE ENDS"
      ],
      "execution_count": null,
      "outputs": [
        {
          "output_type": "display_data",
          "data": {
            "image/png": "[encoded data removed]",
            "text/plain": [
              "<Figure size 432x288 with 1 Axes>"
            ]
          },
          "metadata": {
            "needs_background": "light"
          }
        }
      ]
    },
    {
      "cell_type": "markdown",
      "metadata": {
        "id": "5-CcDLqBU3RS"
      },
      "source": [
        "**Q4) Using the model you have trained, make a prediction for the following new instance:**\n",
        "**x1=0.65, x2=1.36, x3=0.63, x4=0.37, x5=2.14** \n",
        "**(5 points)**\n",
        "\n"
      ]
    },
    {
      "cell_type": "code",
      "metadata": {
        "id": "XOhQP8ffVuM3",
        "colab": {
          "base_uri": "https://localhost:8080/",
          "height": 375
        },
        "outputId": "93543a23-855c-4755-cdad-54622d0eaa8b"
      },
      "source": [
        "##YOUR CODE BEGINS\n",
        "import numpy as np\n",
        "from sklearn.preprocessing import StandardScaler\n",
        "# Making predictions and evaluating the model\n",
        "scaler = StandardScaler()\n",
        "custom_prediction = model.predict(scaler.transform(np.array([[0,0.65, 1.36, 0.63, 0.37,2.14]])))\n",
        "print(\"Custom Prediction: \", customer_prediction)\n",
        "##YOUR CODE ENDS\n"
      ],
      "execution_count": null,
      "outputs": [
        {
          "output_type": "error",
          "ename": "NotFittedError",
          "evalue": "ignored",
          "traceback": [
            "\u001b[0;31m---------------------------------------------------------------------------\u001b[0m",
            "\u001b[0;31mNotFittedError\u001b[0m                            Traceback (most recent call last)",
            "\u001b[0;32m<ipython-input-233-941fbeea7c4a>\u001b[0m in \u001b[0;36m<module>\u001b[0;34m()\u001b[0m\n\u001b[1;32m      4\u001b[0m \u001b[0;31m# Making predictions and evaluating the model\u001b[0m\u001b[0;34m\u001b[0m\u001b[0;34m\u001b[0m\u001b[0;34m\u001b[0m\u001b[0m\n\u001b[1;32m      5\u001b[0m \u001b[0mscaler\u001b[0m \u001b[0;34m=\u001b[0m \u001b[0mStandardScaler\u001b[0m\u001b[0;34m(\u001b[0m\u001b[0;34m)\u001b[0m\u001b[0;34m\u001b[0m\u001b[0;34m\u001b[0m\u001b[0m\n\u001b[0;32m----> 6\u001b[0;31m \u001b[0mcustom_prediction\u001b[0m \u001b[0;34m=\u001b[0m \u001b[0mmodel\u001b[0m\u001b[0;34m.\u001b[0m\u001b[0mpredict\u001b[0m\u001b[0;34m(\u001b[0m\u001b[0mscaler\u001b[0m\u001b[0;34m.\u001b[0m\u001b[0mtransform\u001b[0m\u001b[0;34m(\u001b[0m\u001b[0mnp\u001b[0m\u001b[0;34m.\u001b[0m\u001b[0marray\u001b[0m\u001b[0;34m(\u001b[0m\u001b[0;34m[\u001b[0m\u001b[0;34m[\u001b[0m\u001b[0;36m0\u001b[0m\u001b[0;34m,\u001b[0m\u001b[0;36m0.65\u001b[0m\u001b[0;34m,\u001b[0m \u001b[0;36m1.36\u001b[0m\u001b[0;34m,\u001b[0m \u001b[0;36m0.63\u001b[0m\u001b[0;34m,\u001b[0m \u001b[0;36m0.37\u001b[0m\u001b[0;34m,\u001b[0m\u001b[0;36m2.14\u001b[0m\u001b[0;34m]\u001b[0m\u001b[0;34m]\u001b[0m\u001b[0;34m)\u001b[0m\u001b[0;34m)\u001b[0m\u001b[0;34m)\u001b[0m\u001b[0;34m\u001b[0m\u001b[0;34m\u001b[0m\u001b[0m\n\u001b[0m\u001b[1;32m      7\u001b[0m \u001b[0mprint\u001b[0m\u001b[0;34m(\u001b[0m\u001b[0;34m\"Custom Prediction: \"\u001b[0m\u001b[0;34m,\u001b[0m \u001b[0mcustomer_prediction\u001b[0m\u001b[0;34m)\u001b[0m\u001b[0;34m\u001b[0m\u001b[0;34m\u001b[0m\u001b[0m\n\u001b[1;32m      8\u001b[0m \u001b[0;31m##YOUR CODE ENDS\u001b[0m\u001b[0;34m\u001b[0m\u001b[0;34m\u001b[0m\u001b[0;34m\u001b[0m\u001b[0m\n",
            "\u001b[0;32m/usr/local/lib/python3.7/dist-packages/sklearn/preprocessing/_data.py\u001b[0m in \u001b[0;36mtransform\u001b[0;34m(self, X, copy)\u001b[0m\n\u001b[1;32m    788\u001b[0m             \u001b[0mCopy\u001b[0m \u001b[0mthe\u001b[0m \u001b[0minput\u001b[0m \u001b[0mX\u001b[0m \u001b[0;32mor\u001b[0m \u001b[0;32mnot\u001b[0m\u001b[0;34m.\u001b[0m\u001b[0;34m\u001b[0m\u001b[0;34m\u001b[0m\u001b[0m\n\u001b[1;32m    789\u001b[0m         \"\"\"\n\u001b[0;32m--> 790\u001b[0;31m         \u001b[0mcheck_is_fitted\u001b[0m\u001b[0;34m(\u001b[0m\u001b[0mself\u001b[0m\u001b[0;34m)\u001b[0m\u001b[0;34m\u001b[0m\u001b[0;34m\u001b[0m\u001b[0m\n\u001b[0m\u001b[1;32m    791\u001b[0m \u001b[0;34m\u001b[0m\u001b[0m\n\u001b[1;32m    792\u001b[0m         \u001b[0mcopy\u001b[0m \u001b[0;34m=\u001b[0m \u001b[0mcopy\u001b[0m \u001b[0;32mif\u001b[0m \u001b[0mcopy\u001b[0m \u001b[0;32mis\u001b[0m \u001b[0;32mnot\u001b[0m \u001b[0;32mNone\u001b[0m \u001b[0;32melse\u001b[0m \u001b[0mself\u001b[0m\u001b[0;34m.\u001b[0m\u001b[0mcopy\u001b[0m\u001b[0;34m\u001b[0m\u001b[0;34m\u001b[0m\u001b[0m\n",
            "\u001b[0;32m/usr/local/lib/python3.7/dist-packages/sklearn/utils/validation.py\u001b[0m in \u001b[0;36mcheck_is_fitted\u001b[0;34m(estimator, attributes, msg, all_or_any)\u001b[0m\n\u001b[1;32m    965\u001b[0m \u001b[0;34m\u001b[0m\u001b[0m\n\u001b[1;32m    966\u001b[0m     \u001b[0;32mif\u001b[0m \u001b[0;32mnot\u001b[0m \u001b[0mattrs\u001b[0m\u001b[0;34m:\u001b[0m\u001b[0;34m\u001b[0m\u001b[0;34m\u001b[0m\u001b[0m\n\u001b[0;32m--> 967\u001b[0;31m         \u001b[0;32mraise\u001b[0m \u001b[0mNotFittedError\u001b[0m\u001b[0;34m(\u001b[0m\u001b[0mmsg\u001b[0m \u001b[0;34m%\u001b[0m \u001b[0;34m{\u001b[0m\u001b[0;34m'name'\u001b[0m\u001b[0;34m:\u001b[0m \u001b[0mtype\u001b[0m\u001b[0;34m(\u001b[0m\u001b[0mestimator\u001b[0m\u001b[0;34m)\u001b[0m\u001b[0;34m.\u001b[0m\u001b[0m__name__\u001b[0m\u001b[0;34m}\u001b[0m\u001b[0;34m)\u001b[0m\u001b[0;34m\u001b[0m\u001b[0;34m\u001b[0m\u001b[0m\n\u001b[0m\u001b[1;32m    968\u001b[0m \u001b[0;34m\u001b[0m\u001b[0m\n\u001b[1;32m    969\u001b[0m \u001b[0;34m\u001b[0m\u001b[0m\n",
            "\u001b[0;31mNotFittedError\u001b[0m: This StandardScaler instance is not fitted yet. Call 'fit' with appropriate arguments before using this estimator."
          ]
        }
      ]
    },
    {
      "cell_type": "markdown",
      "metadata": {
        "id": "kpQNwzqShgA4"
      },
      "source": [
        "# **Part 2) This is a Classification problem. The code below will read in the dataset.** "
      ]
    },
    {
      "cell_type": "code",
      "metadata": {
        "id": "RMTabeoShitJ",
        "colab": {
          "base_uri": "https://localhost:8080/"
        },
        "outputId": "5a26e1bc-63b9-4b07-c99f-a6804fe18fef"
      },
      "source": [
        "#RUN THIS CELL, DO NOT CHANGE ANY CODE IN THIS CELL\n",
        "#The code below just reads in the data\n",
        "import pandas as pd\n",
        "\n",
        "#Get the data\n",
        "!pip install -U -q PyDrive\n",
        "\n",
        "#File ID\n",
        "f_id = '1zG-N6qWINHcZjCCmJv0HoCsgD0NOuP5U'\n",
        "\n",
        "from pydrive.auth import GoogleAuth\n",
        "from pydrive.drive import GoogleDrive\n",
        "from google.colab import auth\n",
        "from oauth2client.client import GoogleCredentials\n",
        "import zipfile, os\n",
        "\n",
        "# Authenticate and create the PyDrive client.\n",
        "auth.authenticate_user()\n",
        "gauth = GoogleAuth()\n",
        "gauth.credentials = GoogleCredentials.get_application_default()\n",
        "drive = GoogleDrive(gauth)\n",
        "\n",
        "# Download the file\n",
        "dataFile = drive.CreateFile({'id': f_id})\n",
        "dataFile.GetContentFile('file4.csv')\n",
        "\n",
        "dataset = pd.read_csv('file4.csv')\n",
        "\n",
        "print(dataset.head())"
      ],
      "execution_count": null,
      "outputs": [
        {
          "output_type": "stream",
          "name": "stdout",
          "text": [
            "   Unnamed: 0  y        x1        x2        x3        x4\n",
            "0           0  1 -1.469518  0.277157 -0.434565 -0.752472\n",
            "1           1  2 -0.813746 -1.111410  1.084282  1.104113\n",
            "2           2  1 -0.208016  0.614240 -1.291888  2.329259\n",
            "3           3  0 -0.811774 -0.962225 -0.963309 -1.265497\n",
            "4           4  0 -2.321035  0.275044  0.117162 -1.446115\n"
          ]
        }
      ]
    },
    {
      "cell_type": "markdown",
      "metadata": {
        "id": "qvyZlybOkDug"
      },
      "source": [
        "**Q5) The features in the dataset are x1, x2, x3, x4. Class label is the column with the heading y. In the cell below you should assign these to X and y variabes (5 points)** "
      ]
    },
    {
      "cell_type": "code",
      "metadata": {
        "id": "21nvPASwiIar",
        "colab": {
          "base_uri": "https://localhost:8080/"
        },
        "outputId": "c99e61e3-e0c4-43e8-c932-4aaa9005c4be"
      },
      "source": [
        "##YOUR CODE BEGINS\n",
        "from sklearn.preprocessing import LabelEncoder, OneHotEncoder\n",
        "\n",
        "dataset = pd.DataFrame(dataset)\n",
        "dataset = dataset.values\n",
        "# # Features\n",
        "X = np.array(dataset[:, 1:4]).astype(np.float32)  # Column 2 to 5: X1 to X4 from dataset\n",
        "# Target \n",
        "y = dataset[:, 5]    # Column 6 : Y from dataset\n",
        "\n",
        "print(X.shape)\n",
        "print(y.shape)\n",
        "\n",
        "X = X.transpose()\n",
        "\n",
        "##YOUR CODE ENDS\n",
        "print(X[0:5,:])\n",
        "print(y[0:5])"
      ],
      "execution_count": null,
      "outputs": [
        {
          "output_type": "stream",
          "name": "stdout",
          "text": [
            "(10000, 3)\n",
            "(10000,)\n",
            "[[-0.5792736   0.42624065 -0.27883542 ...  1.4184124  -2.4579523\n",
            "   0.5931936 ]\n",
            " [ 0.30576298  0.7137853  -1.032538   ... -0.25577837  0.10316233\n",
            "   0.5459834 ]\n",
            " [ 0.25000432  1.1548086   2.194766   ... -1.7506001   0.21016933\n",
            "   0.22459102]]\n",
            "[-0.15039971 -0.22066262 -0.88680392 -0.93606983  0.33094097]\n"
          ]
        }
      ]
    },
    {
      "cell_type": "markdown",
      "metadata": {
        "id": "8vqzNBjQlUyy"
      },
      "source": [
        "**We will now split the data into Training Set and Test Set**"
      ]
    },
    {
      "cell_type": "code",
      "metadata": {
        "id": "JQ7OGzxukvjc",
        "colab": {
          "base_uri": "https://localhost:8080/",
          "height": 375
        },
        "outputId": "8e7da30c-a9a0-4c2d-88d4-c6481a61538c"
      },
      "source": [
        "#RUN THIS CELL, DO NOT CHANGE ANY CODE IN THIS CELL\n",
        "from sklearn.model_selection import train_test_split\n",
        "X_train, X_test, y_train, y_test = train_test_split(X, y, test_size=0.3,random_state=32, stratify=y)\n",
        "print(X_train[0:5,:])\n",
        "print(y_train[0:5])"
      ],
      "execution_count": null,
      "outputs": [
        {
          "output_type": "error",
          "ename": "ValueError",
          "evalue": "ignored",
          "traceback": [
            "\u001b[0;31m---------------------------------------------------------------------------\u001b[0m",
            "\u001b[0;31mValueError\u001b[0m                                Traceback (most recent call last)",
            "\u001b[0;32m<ipython-input-237-741ba9af4f6c>\u001b[0m in \u001b[0;36m<module>\u001b[0;34m()\u001b[0m\n\u001b[1;32m      1\u001b[0m \u001b[0;31m#RUN THIS CELL, DO NOT CHANGE ANY CODE IN THIS CELL\u001b[0m\u001b[0;34m\u001b[0m\u001b[0;34m\u001b[0m\u001b[0;34m\u001b[0m\u001b[0m\n\u001b[1;32m      2\u001b[0m \u001b[0;32mfrom\u001b[0m \u001b[0msklearn\u001b[0m\u001b[0;34m.\u001b[0m\u001b[0mmodel_selection\u001b[0m \u001b[0;32mimport\u001b[0m \u001b[0mtrain_test_split\u001b[0m\u001b[0;34m\u001b[0m\u001b[0;34m\u001b[0m\u001b[0m\n\u001b[0;32m----> 3\u001b[0;31m \u001b[0mX_train\u001b[0m\u001b[0;34m,\u001b[0m \u001b[0mX_test\u001b[0m\u001b[0;34m,\u001b[0m \u001b[0my_train\u001b[0m\u001b[0;34m,\u001b[0m \u001b[0my_test\u001b[0m \u001b[0;34m=\u001b[0m \u001b[0mtrain_test_split\u001b[0m\u001b[0;34m(\u001b[0m\u001b[0mX\u001b[0m\u001b[0;34m,\u001b[0m \u001b[0my\u001b[0m\u001b[0;34m,\u001b[0m \u001b[0mtest_size\u001b[0m\u001b[0;34m=\u001b[0m\u001b[0;36m0.3\u001b[0m\u001b[0;34m,\u001b[0m\u001b[0mrandom_state\u001b[0m\u001b[0;34m=\u001b[0m\u001b[0;36m32\u001b[0m\u001b[0;34m,\u001b[0m \u001b[0mstratify\u001b[0m\u001b[0;34m=\u001b[0m\u001b[0my\u001b[0m\u001b[0;34m)\u001b[0m\u001b[0;34m\u001b[0m\u001b[0;34m\u001b[0m\u001b[0m\n\u001b[0m\u001b[1;32m      4\u001b[0m \u001b[0mprint\u001b[0m\u001b[0;34m(\u001b[0m\u001b[0mX_train\u001b[0m\u001b[0;34m[\u001b[0m\u001b[0;36m0\u001b[0m\u001b[0;34m:\u001b[0m\u001b[0;36m5\u001b[0m\u001b[0;34m,\u001b[0m\u001b[0;34m:\u001b[0m\u001b[0;34m]\u001b[0m\u001b[0;34m)\u001b[0m\u001b[0;34m\u001b[0m\u001b[0;34m\u001b[0m\u001b[0m\n\u001b[1;32m      5\u001b[0m \u001b[0mprint\u001b[0m\u001b[0;34m(\u001b[0m\u001b[0my_train\u001b[0m\u001b[0;34m[\u001b[0m\u001b[0;36m0\u001b[0m\u001b[0;34m:\u001b[0m\u001b[0;36m5\u001b[0m\u001b[0;34m]\u001b[0m\u001b[0;34m)\u001b[0m\u001b[0;34m\u001b[0m\u001b[0;34m\u001b[0m\u001b[0m\n",
            "\u001b[0;32m/usr/local/lib/python3.7/dist-packages/sklearn/model_selection/_split.py\u001b[0m in \u001b[0;36mtrain_test_split\u001b[0;34m(*arrays, **options)\u001b[0m\n\u001b[1;32m   2116\u001b[0m         \u001b[0;32mraise\u001b[0m \u001b[0mTypeError\u001b[0m\u001b[0;34m(\u001b[0m\u001b[0;34m\"Invalid parameters passed: %s\"\u001b[0m \u001b[0;34m%\u001b[0m \u001b[0mstr\u001b[0m\u001b[0;34m(\u001b[0m\u001b[0moptions\u001b[0m\u001b[0;34m)\u001b[0m\u001b[0;34m)\u001b[0m\u001b[0;34m\u001b[0m\u001b[0;34m\u001b[0m\u001b[0m\n\u001b[1;32m   2117\u001b[0m \u001b[0;34m\u001b[0m\u001b[0m\n\u001b[0;32m-> 2118\u001b[0;31m     \u001b[0marrays\u001b[0m \u001b[0;34m=\u001b[0m \u001b[0mindexable\u001b[0m\u001b[0;34m(\u001b[0m\u001b[0;34m*\u001b[0m\u001b[0marrays\u001b[0m\u001b[0;34m)\u001b[0m\u001b[0;34m\u001b[0m\u001b[0;34m\u001b[0m\u001b[0m\n\u001b[0m\u001b[1;32m   2119\u001b[0m \u001b[0;34m\u001b[0m\u001b[0m\n\u001b[1;32m   2120\u001b[0m     \u001b[0mn_samples\u001b[0m \u001b[0;34m=\u001b[0m \u001b[0m_num_samples\u001b[0m\u001b[0;34m(\u001b[0m\u001b[0marrays\u001b[0m\u001b[0;34m[\u001b[0m\u001b[0;36m0\u001b[0m\u001b[0;34m]\u001b[0m\u001b[0;34m)\u001b[0m\u001b[0;34m\u001b[0m\u001b[0;34m\u001b[0m\u001b[0m\n",
            "\u001b[0;32m/usr/local/lib/python3.7/dist-packages/sklearn/utils/validation.py\u001b[0m in \u001b[0;36mindexable\u001b[0;34m(*iterables)\u001b[0m\n\u001b[1;32m    246\u001b[0m     \"\"\"\n\u001b[1;32m    247\u001b[0m     \u001b[0mresult\u001b[0m \u001b[0;34m=\u001b[0m \u001b[0;34m[\u001b[0m\u001b[0m_make_indexable\u001b[0m\u001b[0;34m(\u001b[0m\u001b[0mX\u001b[0m\u001b[0;34m)\u001b[0m \u001b[0;32mfor\u001b[0m \u001b[0mX\u001b[0m \u001b[0;32min\u001b[0m \u001b[0miterables\u001b[0m\u001b[0;34m]\u001b[0m\u001b[0;34m\u001b[0m\u001b[0;34m\u001b[0m\u001b[0m\n\u001b[0;32m--> 248\u001b[0;31m     \u001b[0mcheck_consistent_length\u001b[0m\u001b[0;34m(\u001b[0m\u001b[0;34m*\u001b[0m\u001b[0mresult\u001b[0m\u001b[0;34m)\u001b[0m\u001b[0;34m\u001b[0m\u001b[0;34m\u001b[0m\u001b[0m\n\u001b[0m\u001b[1;32m    249\u001b[0m     \u001b[0;32mreturn\u001b[0m \u001b[0mresult\u001b[0m\u001b[0;34m\u001b[0m\u001b[0;34m\u001b[0m\u001b[0m\n\u001b[1;32m    250\u001b[0m \u001b[0;34m\u001b[0m\u001b[0m\n",
            "\u001b[0;32m/usr/local/lib/python3.7/dist-packages/sklearn/utils/validation.py\u001b[0m in \u001b[0;36mcheck_consistent_length\u001b[0;34m(*arrays)\u001b[0m\n\u001b[1;32m    210\u001b[0m     \u001b[0;32mif\u001b[0m \u001b[0mlen\u001b[0m\u001b[0;34m(\u001b[0m\u001b[0muniques\u001b[0m\u001b[0;34m)\u001b[0m \u001b[0;34m>\u001b[0m \u001b[0;36m1\u001b[0m\u001b[0;34m:\u001b[0m\u001b[0;34m\u001b[0m\u001b[0;34m\u001b[0m\u001b[0m\n\u001b[1;32m    211\u001b[0m         raise ValueError(\"Found input variables with inconsistent numbers of\"\n\u001b[0;32m--> 212\u001b[0;31m                          \" samples: %r\" % [int(l) for l in lengths])\n\u001b[0m\u001b[1;32m    213\u001b[0m \u001b[0;34m\u001b[0m\u001b[0m\n\u001b[1;32m    214\u001b[0m \u001b[0;34m\u001b[0m\u001b[0m\n",
            "\u001b[0;31mValueError\u001b[0m: Found input variables with inconsistent numbers of samples: [3, 10000]"
          ]
        }
      ]
    },
    {
      "cell_type": "markdown",
      "metadata": {
        "id": "b8At7iQ9mLJK"
      },
      "source": [
        "**Q6) Print the number of classes and the number of instances per class in the training set (5 points)**"
      ]
    },
    {
      "cell_type": "code",
      "metadata": {
        "id": "fLKBPQWwl0WD"
      },
      "source": [
        "##YOUR CODE BEGINS\n",
        "from sklearn.preprocessing import StandardScaler\n",
        "# Normalizing or standardization.\n",
        "scaler = StandardScaler()\n",
        "X_train = scaler.fit_transform(X_train)\n",
        "# we use transform here to avoid data leackage\n",
        "X_test = scaler.transform(X_test)\n",
        "\n",
        "print(\"x_train.shape:\", X_train.shape)\n",
        "print(\"x_test.shape:\", X_test.shape)\n",
        "\n",
        "# To verify the number of class labels, we cast y_train as a set and print its \n",
        "# length\n",
        "# K -- number of classes\n",
        "K = len(set(y_train))\n",
        "print(\"number of classes:\", K)\n",
        "##YOUR CODE ENDS"
      ],
      "execution_count": null,
      "outputs": []
    },
    {
      "cell_type": "markdown",
      "metadata": {
        "id": "C68sPks0spLR"
      },
      "source": [
        "**Q7) Write the code in the cell below for defining the model, compile, and fit. For this question, you may want to try different model architectures and hyperparameters, however when you submit there should be just one model defined (10 points).**"
      ]
    },
    {
      "cell_type": "code",
      "metadata": {
        "id": "4tgJUnF_sxNM"
      },
      "source": [
        "##YOUR CODE BEGINS\n",
        "# Build the model using the functional API\n",
        "i = Input(shape=x_train[0].shape)\n",
        "x = Conv2D(32, (3, 3), strides=2, activation='relu', padding='same')(i)\n",
        "x = Conv2D(64, (3, 3), strides=2, activation='relu', padding='same')(x)\n",
        "x = Conv2D(128, (3, 3), strides=2, activation='relu', padding='same')(x)\n",
        "x = Flatten()(x)\n",
        "x = Dropout(0.2)(x)\n",
        "x = Dense(512, activation='relu')(x)\n",
        "x = Dropout(0.2)(x)\n",
        "x = Dense(K, activation='softmax')(x)\n",
        "\n",
        "model = Model(i, x)\n",
        "\n",
        "# Compile and fit\n",
        "model.compile(optimizer='adam',\n",
        "              loss='sparse_categorical_crossentropy',\n",
        "              metrics=['accuracy'])\n",
        "r = model.fit(x_train, y_train, validation_data=(x_test, y_test), epochs=10)\n",
        "\n",
        "##YOUR CODE ENDS"
      ],
      "execution_count": null,
      "outputs": []
    },
    {
      "cell_type": "markdown",
      "metadata": {
        "id": "kokD9KIGuWxf"
      },
      "source": [
        "**Q8) In the cell below, write the code for plotting the training and validation (testing) loss plot (5 points)**"
      ]
    },
    {
      "cell_type": "code",
      "metadata": {
        "id": "qtiBlog7udsG"
      },
      "source": [
        "##YOUR CODE BEGINS\n",
        "# Plot loss per iteration\n",
        "import matplotlib.pyplot as plt\n",
        "plt.plot(r.history['loss'], label='loss')\n",
        "plt.plot(r.history['val_loss'], label='val_loss')\n",
        "plt.legend()\n",
        "\n",
        "##YOUR CODE ENDS"
      ],
      "execution_count": null,
      "outputs": []
    },
    {
      "cell_type": "markdown",
      "metadata": {
        "id": "sOO7S9GMukjT"
      },
      "source": [
        "**Q9) In the cell below, write the code for plotting the training and validation (testing) accuracy plot (5 points)** "
      ]
    },
    {
      "cell_type": "code",
      "metadata": {
        "id": "eeX2wxG3u6v4"
      },
      "source": [
        "##YOUR CODE BEGINS\n",
        "# Plot accuracy per iteration\n",
        "plt.plot(r.history['accuracy'], label='acc')\n",
        "plt.plot(r.history['val_accuracy'], label='val_acc')\n",
        "plt.legend()\n",
        "\n",
        "##YOUR CODE ENDS"
      ],
      "execution_count": null,
      "outputs": []
    },
    {
      "cell_type": "markdown",
      "metadata": {
        "id": "lGRiDCAEILXD"
      },
      "source": [
        "**Q10) Using the model you have trained, make a prediction for the following  instance: x1=0.55, x2=-1.79, x3=1.49, x4=1.72. That is, you should not just display the probabilities, you should mention which class label is getting predicted (5 points)**"
      ]
    },
    {
      "cell_type": "code",
      "metadata": {
        "id": "IPj4Tb5BIY7s"
      },
      "source": [
        "##YOUR CODE BEGINS\n",
        "# Predicting the Test and custom results\n",
        "y_pred = model.predict(X_test)\n",
        "# predicting x1=0.55, x2=-1.79, x3=1.49, x4=1.72\n",
        "c_prediction = model.predict(scaler.transform(np.array([[0, 0, 0, 0.55, -1.79, 1.49, 1.72]])))\n",
        "\n",
        "print(\"Predicting the Test set results: \", y_pred)\n",
        "print(\"Customer Prediction: \", customer_prediction)\n",
        "\n",
        "##YOUR CODE ENDS"
      ],
      "execution_count": null,
      "outputs": []
    },
    {
      "cell_type": "markdown",
      "metadata": {
        "id": "97LFaqml9CKi"
      },
      "source": [
        "# **Part 3) Image Classification with CNN. The following code will first read in the image data which is in zip file. The images consist of apple and banana, which will be our two class labels. The contents of the .zip are extracted to the base directory /tmp/apple-banana, which contains train and validation subdirectories for the training and validation datasets, which in turn each contain apple and banana subdirectories.**"
      ]
    },
    {
      "cell_type": "code",
      "metadata": {
        "id": "TBVVZ7l39zwD",
        "colab": {
          "base_uri": "https://localhost:8080/"
        },
        "outputId": "5fcebfb8-1fd5-4631-9ea7-d18738ac19d9"
      },
      "source": [
        "#RUN THIS CELL, DO NOT CHANGE ANY CODE IN THIS CELL\n",
        "#Get the data\n",
        "!pip install -U -q PyDrive\n",
        "\n",
        "#File ID\n",
        "zip_id = '1sqhjr9h_Rz8z5qTZQEk9EOL7-TPe3_MK'\n",
        "\n",
        "from pydrive.auth import GoogleAuth\n",
        "from pydrive.drive import GoogleDrive\n",
        "from google.colab import auth\n",
        "from oauth2client.client import GoogleCredentials\n",
        "import zipfile, os\n",
        "\n",
        "# Authenticate and create the PyDrive client.\n",
        "auth.authenticate_user()\n",
        "gauth = GoogleAuth()\n",
        "gauth.credentials = GoogleCredentials.get_application_default()\n",
        "drive = GoogleDrive(gauth)\n",
        "\n",
        "# Download the zip file\n",
        "myzip = drive.CreateFile({'id': zip_id})\n",
        "myzip.GetContentFile('apple-banana.zip')\n",
        "\n",
        "!unzip -qq -o apple-banana.zip -d /tmp\n",
        "!ls /tmp/apple-banana"
      ],
      "execution_count": null,
      "outputs": [
        {
          "output_type": "stream",
          "name": "stdout",
          "text": [
            "training  validation\n"
          ]
        }
      ]
    },
    {
      "cell_type": "code",
      "metadata": {
        "id": "2APZ42OEqJQy",
        "colab": {
          "base_uri": "https://localhost:8080/"
        },
        "outputId": "32c7ae38-5a19-4ff2-e075-f28795cd687c"
      },
      "source": [
        "#RUN THIS CELL, DO NOT CHANGE ANY CODE IN THIS CELL\n",
        "!ls /tmp/apple-banana/training"
      ],
      "execution_count": null,
      "outputs": [
        {
          "output_type": "stream",
          "name": "stdout",
          "text": [
            "apple  banana\n"
          ]
        }
      ]
    },
    {
      "cell_type": "code",
      "metadata": {
        "id": "dN-xWG4SqnS7",
        "colab": {
          "base_uri": "https://localhost:8080/"
        },
        "outputId": "22d604f4-6ca8-4be3-cbdf-1d76cab80616"
      },
      "source": [
        "#RUN THIS CELL, DO NOT CHANGE ANY CODE IN THIS CELL\n",
        "!ls /tmp/apple-banana/validation"
      ],
      "execution_count": null,
      "outputs": [
        {
          "output_type": "stream",
          "name": "stdout",
          "text": [
            "apple  banana\n"
          ]
        }
      ]
    },
    {
      "cell_type": "code",
      "metadata": {
        "id": "winej2vgq1W_",
        "colab": {
          "base_uri": "https://localhost:8080/"
        },
        "outputId": "8d4d71c7-5482-4ccb-f5e3-95eb2e2f338f"
      },
      "source": [
        "#RUN THIS CELL, DO NOT CHANGE ANY CODE IN THIS CELL\n",
        "!ls /tmp/apple-banana/training/apple"
      ],
      "execution_count": null,
      "outputs": [
        {
          "output_type": "stream",
          "name": "stdout",
          "text": [
            "0_100.jpg    107_100.jpg  114_100.jpg  122_100.jpg  19_100.jpg\t27_100.jpg\n",
            "100_100.jpg  108_100.jpg  115_100.jpg  123_100.jpg  20_100.jpg\t28_100.jpg\n",
            "10_100.jpg   109_100.jpg  116_100.jpg  124_100.jpg  2_100.jpg\t29_100.jpg\n",
            "101_100.jpg  1_100.jpg\t  117_100.jpg  13_100.jpg   21_100.jpg\t30_100.jpg\n",
            "102_100.jpg  110_100.jpg  118_100.jpg  14_100.jpg   22_100.jpg\t31_100.jpg\n",
            "103_100.jpg  11_100.jpg   119_100.jpg  15_100.jpg   23_100.jpg\n",
            "104_100.jpg  111_100.jpg  120_100.jpg  16_100.jpg   24_100.jpg\n",
            "105_100.jpg  112_100.jpg  12_100.jpg   17_100.jpg   25_100.jpg\n",
            "106_100.jpg  113_100.jpg  121_100.jpg  18_100.jpg   26_100.jpg\n"
          ]
        }
      ]
    },
    {
      "cell_type": "code",
      "metadata": {
        "id": "wLCM43H6rDBn",
        "colab": {
          "base_uri": "https://localhost:8080/"
        },
        "outputId": "b56ac442-9936-4f37-c54d-8d044112d7b6"
      },
      "source": [
        "#RUN THIS CELL, DO NOT CHANGE ANY CODE IN THIS CELL\n",
        "!ls /tmp/apple-banana/training/banana"
      ],
      "execution_count": null,
      "outputs": [
        {
          "output_type": "stream",
          "name": "stdout",
          "text": [
            "0_100.jpg   39_100.jpg\t47_100.jpg  55_100.jpg\t63_100.jpg  71_100.jpg\n",
            "10_100.jpg  40_100.jpg\t48_100.jpg  56_100.jpg\t64_100.jpg  72_100.jpg\n",
            "1_100.jpg   4_100.jpg\t49_100.jpg  57_100.jpg\t65_100.jpg  73_100.jpg\n",
            "11_100.jpg  41_100.jpg\t50_100.jpg  58_100.jpg\t66_100.jpg  8_100.jpg\n",
            "2_100.jpg   42_100.jpg\t5_100.jpg   59_100.jpg\t67_100.jpg  9_100.jpg\n",
            "3_100.jpg   43_100.jpg\t51_100.jpg  60_100.jpg\t68_100.jpg\n",
            "35_100.jpg  44_100.jpg\t52_100.jpg  6_100.jpg\t69_100.jpg\n",
            "37_100.jpg  45_100.jpg\t53_100.jpg  61_100.jpg\t70_100.jpg\n",
            "38_100.jpg  46_100.jpg\t54_100.jpg  62_100.jpg\t7_100.jpg\n"
          ]
        }
      ]
    },
    {
      "cell_type": "code",
      "metadata": {
        "id": "sZsw3nrarYwG",
        "colab": {
          "base_uri": "https://localhost:8080/",
          "height": 268
        },
        "outputId": "3245521b-ef9c-4e1a-9f97-4c572cb41f07"
      },
      "source": [
        "#RUN THIS CELL, DO NOT CHANGE ANY CODE IN THIS CELL\n",
        "# check out an image from the apple class\n",
        "import matplotlib.pyplot as plt\n",
        "from tensorflow.keras.preprocessing import image\n",
        "plt.imshow(image.load_img('/tmp/apple-banana/training/apple/0_100.jpg'))\n",
        "plt.show()"
      ],
      "execution_count": null,
      "outputs": [
        {
          "output_type": "display_data",
          "data": {
            "image/png": "[encoded data removed]",
            "text/plain": [
              "<Figure size 432x288 with 1 Axes>"
            ]
          },
          "metadata": {
            "needs_background": "light"
          }
        }
      ]
    },
    {
      "cell_type": "code",
      "metadata": {
        "id": "VXTiuJQbsFMq",
        "colab": {
          "base_uri": "https://localhost:8080/",
          "height": 268
        },
        "outputId": "3dd2b6e6-c3e9-43a5-e12a-68afeb2cdde4"
      },
      "source": [
        "#RUN THIS CELL, DO NOT CHANGE ANY CODE IN THIS CELL\n",
        "# check out an image from the banana class\n",
        "import matplotlib.pyplot as plt\n",
        "from tensorflow.keras.preprocessing import image\n",
        "plt.imshow(image.load_img('/tmp/apple-banana/training/banana/0_100.jpg'))\n",
        "plt.show()"
      ],
      "execution_count": null,
      "outputs": [
        {
          "output_type": "display_data",
          "data": {
            "image/png": "[encoded data removed]",
            "text/plain": [
              "<Figure size 432x288 with 1 Axes>"
            ]
          },
          "metadata": {
            "needs_background": "light"
          }
        }
      ]
    },
    {
      "cell_type": "markdown",
      "metadata": {
        "id": "36XbA7M3sqVZ"
      },
      "source": [
        "**Q11) We need to perform classification of images into the two classes 'apple', or 'banana'. However, we have not explicitly labeled the images. The ImageDataGenerator will use the name of the directory as labels. For that you need to define the directories in the cell below (5 points).**"
      ]
    },
    {
      "cell_type": "code",
      "metadata": {
        "id": "JXAZfRZltE8X",
        "colab": {
          "base_uri": "https://localhost:8080/"
        },
        "outputId": "061f9746-1ff2-41ea-c9d2-b918b6328b79"
      },
      "source": [
        "##YOUR CODE BEGINS\n",
        "\n",
        "# now let's set up the proper directory structure\n",
        "# let start with creating the appropriate directories\n",
        "# Make appropriate directories \n",
        "!mkdir data                           # parent dir\n",
        "!mkdir data/train\n",
        "!mkdir data/test\n",
        "!mkdir data/train/apple\n",
        "!mkdir data/train/banana\n",
        "!mkdir data/test/apple\n",
        "!mkdir data/test/banana\n",
        "!ls\n",
        "\n",
        "\n",
        "\n",
        "##YOUR CODE ENDS"
      ],
      "execution_count": null,
      "outputs": [
        {
          "output_type": "stream",
          "name": "stdout",
          "text": [
            "adc.json  apple-banana.zip  data  file3.csv  file4.csv\tsample_data\n"
          ]
        }
      ]
    },
    {
      "cell_type": "markdown",
      "metadata": {
        "id": "VQhiM6D9vLHa"
      },
      "source": [
        "**Q12) Now display the number of training and validation (testing) images we have for each class (5 points).** "
      ]
    },
    {
      "cell_type": "code",
      "metadata": {
        "id": "25HKyanXu8wH",
        "colab": {
          "base_uri": "https://localhost:8080/"
        },
        "outputId": "65d61066-471f-4e87-f1a7-ef2b41569ff2"
      },
      "source": [
        "##YOUR CODE BEGINS\n",
        "from glob import glob\n",
        "# now let's move the data to the appropriate directories\n",
        "# Move the images\n",
        "# Note: we will consider 'training' to be the train set\n",
        "#       'validation' folder will be the test set\n",
        "#       ignore the 'evaluation' set\n",
        "!mv /tmp/apple-banana/training/apple/*.jpg data/train/apple\n",
        "!mv /tmp/apple-banana/training/banana/*.jpg data/train/banana\n",
        "!mv /tmp/apple-banana/validation/apple/*.jpg data/test/apple\n",
        "!mv /tmp/apple-banana/validation/banana/*.jpg data/test/banana\n",
        "\n",
        "# process the image : standarization\n",
        "# These images are pretty big and of different sizes\n",
        "# Let's load them all in as the same (smaller) size\n",
        "IMAGE_SIZE = [200, 200]\n",
        "\n",
        "# set up path for training and validation\n",
        "train_path = 'data/train'\n",
        "valid_path = 'data/test'\n",
        "\n",
        "# useful for getting number of files\n",
        "image_files = glob(train_path + '/*/*.jpg')\n",
        "valid_image_files = glob(valid_path + '/*/*.jpg')\n",
        "print('Number of images for training: ', len(image_files))\n",
        "print('Number of images for validation: ', len(valid_image_files))\n",
        "\n",
        "##YOUR CODE ENDS"
      ],
      "execution_count": null,
      "outputs": [
        {
          "output_type": "stream",
          "name": "stdout",
          "text": [
            "mv: cannot stat '/tmp/apple-banana/training/apple/*.jpg': No such file or directory\n",
            "mv: cannot stat '/tmp/apple-banana/training/banana/*.jpg': No such file or directory\n",
            "mv: cannot stat '/tmp/apple-banana/validation/apple/*.jpg': No such file or directory\n",
            "mv: cannot stat '/tmp/apple-banana/validation/banana/*.jpg': No such file or directory\n",
            "Number of images for training:  100\n",
            "Number of images for validation:  30\n"
          ]
        }
      ]
    },
    {
      "cell_type": "markdown",
      "metadata": {
        "id": "jH98oA-3w2gd"
      },
      "source": [
        "**Q13) Define a CNN model that has no more than two Conv-Pool layers. Our dataset is small so don't make the model any more complex. (10 points).**"
      ]
    },
    {
      "cell_type": "code",
      "metadata": {
        "id": "ytdJo8nWxLyS",
        "colab": {
          "base_uri": "https://localhost:8080/"
        },
        "outputId": "822fb35c-a7a8-49b5-9933-ea0f129ea17e"
      },
      "source": [
        "##YOUR CODE BEGINS\n",
        "from tensorflow.keras.layers import Input, Dense, Flatten\n",
        "from tensorflow.keras.applications.vgg16 import VGG16 as PretrainedModel, preprocess_input\n",
        "from tensorflow.keras.models import Model\n",
        "from tensorflow.keras.optimizers import SGD, Adam\n",
        "from tensorflow.keras.preprocessing import image\n",
        "from tensorflow.keras.preprocessing.image import ImageDataGenerator\n",
        "# useful for getting number of classes\n",
        "folders = glob(train_path + '/*')\n",
        "print(folders)\n",
        "\n",
        "# STAGE 1\n",
        "# let's create an instance of the VVG16 using our IMAGE_SIZE\n",
        "ptm = PretrainedModel(\n",
        "    input_shape=IMAGE_SIZE + [3],\n",
        "    weights='imagenet',\n",
        "    include_top=False)\n",
        "\n",
        "# let's freeze the VVG16 instance stage 1 we created \n",
        "# for pretrained model weights\n",
        "ptm.trainable = False\n",
        "\n",
        "# STAGE 2 \n",
        "# let's create our classifier\n",
        "# map the data into feature vectors\n",
        "\n",
        "# Keras image data generator returns classes one-hot encoded\n",
        "K = len(folders) # number of classes\n",
        "x = Flatten()(ptm.output)\n",
        "x = Dense(K, activation='softmax')(x)\n",
        "\n",
        "# create a model object\n",
        "# combine stage 1 -- inputs=ptm.input\n",
        "# and stage 2 -- outputs=x\n",
        "model = Model(inputs=ptm.input, outputs=x)\n",
        "\n",
        "# view the structure of the model\n",
        "model.summary()\n",
        "\n",
        "##YOUR CODE ENDS"
      ],
      "execution_count": null,
      "outputs": [
        {
          "output_type": "stream",
          "name": "stdout",
          "text": [
            "['data/train/banana', 'data/train/apple']\n",
            "Model: \"model_1\"\n",
            "_________________________________________________________________\n",
            "Layer (type)                 Output Shape              Param #   \n",
            "=================================================================\n",
            "input_2 (InputLayer)         [(None, 200, 200, 3)]     0         \n",
            "_________________________________________________________________\n",
            "block1_conv1 (Conv2D)        (None, 200, 200, 64)      1792      \n",
            "_________________________________________________________________\n",
            "block1_conv2 (Conv2D)        (None, 200, 200, 64)      36928     \n",
            "_________________________________________________________________\n",
            "block1_pool (MaxPooling2D)   (None, 100, 100, 64)      0         \n",
            "_________________________________________________________________\n",
            "block2_conv1 (Conv2D)        (None, 100, 100, 128)     73856     \n",
            "_________________________________________________________________\n",
            "block2_conv2 (Conv2D)        (None, 100, 100, 128)     147584    \n",
            "_________________________________________________________________\n",
            "block2_pool (MaxPooling2D)   (None, 50, 50, 128)       0         \n",
            "_________________________________________________________________\n",
            "block3_conv1 (Conv2D)        (None, 50, 50, 256)       295168    \n",
            "_________________________________________________________________\n",
            "block3_conv2 (Conv2D)        (None, 50, 50, 256)       590080    \n",
            "_________________________________________________________________\n",
            "block3_conv3 (Conv2D)        (None, 50, 50, 256)       590080    \n",
            "_________________________________________________________________\n",
            "block3_pool (MaxPooling2D)   (None, 25, 25, 256)       0         \n",
            "_________________________________________________________________\n",
            "block4_conv1 (Conv2D)        (None, 25, 25, 512)       1180160   \n",
            "_________________________________________________________________\n",
            "block4_conv2 (Conv2D)        (None, 25, 25, 512)       2359808   \n",
            "_________________________________________________________________\n",
            "block4_conv3 (Conv2D)        (None, 25, 25, 512)       2359808   \n",
            "_________________________________________________________________\n",
            "block4_pool (MaxPooling2D)   (None, 12, 12, 512)       0         \n",
            "_________________________________________________________________\n",
            "block5_conv1 (Conv2D)        (None, 12, 12, 512)       2359808   \n",
            "_________________________________________________________________\n",
            "block5_conv2 (Conv2D)        (None, 12, 12, 512)       2359808   \n",
            "_________________________________________________________________\n",
            "block5_conv3 (Conv2D)        (None, 12, 12, 512)       2359808   \n",
            "_________________________________________________________________\n",
            "block5_pool (MaxPooling2D)   (None, 6, 6, 512)         0         \n",
            "_________________________________________________________________\n",
            "flatten_1 (Flatten)          (None, 18432)             0         \n",
            "_________________________________________________________________\n",
            "dense_12 (Dense)             (None, 2)                 36866     \n",
            "=================================================================\n",
            "Total params: 14,751,554\n",
            "Trainable params: 36,866\n",
            "Non-trainable params: 14,714,688\n",
            "_________________________________________________________________\n"
          ]
        }
      ]
    },
    {
      "cell_type": "markdown",
      "metadata": {
        "id": "jiYNgILHxf2Q"
      },
      "source": [
        "**Q14) Write the compile statement for the CNN you defined. Then, define the data generators for the CNN (5 points).** "
      ]
    },
    {
      "cell_type": "code",
      "metadata": {
        "id": "QQlnSUSzxlnw",
        "colab": {
          "base_uri": "https://localhost:8080/"
        },
        "outputId": "bcd46dfe-2522-4a82-bdc4-9e8d73fa310a"
      },
      "source": [
        "##YOUR CODE BEGINS\n",
        "\n",
        "# create an instance of ImageDataGenerator\n",
        "# this is where we are aolso doing some of the preprocessing\n",
        "gen_train = ImageDataGenerator(\n",
        "  rotation_range=20,\n",
        "  width_shift_range=0.1,\n",
        "  height_shift_range=0.1,\n",
        "  shear_range=0.1,\n",
        "  zoom_range=0.2,\n",
        "  horizontal_flip=True,\n",
        "  preprocessing_function=preprocess_input\n",
        ")\n",
        "\n",
        "# we don't augment test image but we have to precess them\n",
        "gen_test = ImageDataGenerator(\n",
        "  preprocessing_function=preprocess_input\n",
        ")\n",
        "\n",
        "# using a batch size of 32\n",
        "batch_size = 32\n",
        "\n",
        "# create generators\n",
        "train_generator = gen_train.flow_from_directory(\n",
        "  train_path,               # this is the training data path we setup earlier\n",
        "  shuffle=True,\n",
        "  target_size=IMAGE_SIZE,   # image size that we define for standarization\n",
        "  batch_size=batch_size,\n",
        ")\n",
        "valid_generator = gen_test.flow_from_directory(\n",
        "  valid_path,               # this is the validation data path we setup earlier\n",
        "  target_size=IMAGE_SIZE,   # image size that we define for standarization\n",
        "  batch_size=batch_size,\n",
        ")\n",
        "\n",
        "model.compile(\n",
        "  loss='categorical_crossentropy',\n",
        "  optimizer='adam',\n",
        "  metrics=['accuracy']\n",
        ")\n",
        "\n",
        "##YOUR CODE ENDS"
      ],
      "execution_count": null,
      "outputs": [
        {
          "output_type": "stream",
          "name": "stdout",
          "text": [
            "Found 100 images belonging to 2 classes.\n",
            "Found 30 images belonging to 2 classes.\n"
          ]
        }
      ]
    },
    {
      "cell_type": "markdown",
      "metadata": {
        "id": "1Cu7ziWix3fx"
      },
      "source": [
        "**Q15) Fit the CNN by calling the fit function (5 points).**"
      ]
    },
    {
      "cell_type": "code",
      "metadata": {
        "id": "2z1A4xthyzl9",
        "colab": {
          "base_uri": "https://localhost:8080/"
        },
        "outputId": "9367af13-b6ea-402d-b4bc-a38f0cf48e55"
      },
      "source": [
        "##YOUR CODE BEGINS\n",
        "# Now let's train our model\n",
        "# fit the model\n",
        "r = model.fit(\n",
        "  train_generator,\n",
        "  validation_data=valid_generator,\n",
        "  epochs=10,\n",
        "  steps_per_epoch=int(np.ceil(len(image_files) / batch_size)),\n",
        "  validation_steps=int(np.ceil(len(valid_image_files) / batch_size)),\n",
        ")\n",
        "\n",
        "##YOUR CODE ENDS"
      ],
      "execution_count": null,
      "outputs": [
        {
          "output_type": "stream",
          "name": "stdout",
          "text": [
            "Epoch 1/10\n",
            "4/4 [==============================] - 2s 315ms/step - loss: 0.0000e+00 - accuracy: 1.0000 - val_loss: 0.0000e+00 - val_accuracy: 1.0000\n",
            "Epoch 2/10\n",
            "4/4 [==============================] - 1s 246ms/step - loss: 0.0000e+00 - accuracy: 1.0000 - val_loss: 0.0000e+00 - val_accuracy: 1.0000\n",
            "Epoch 3/10\n",
            "4/4 [==============================] - 1s 239ms/step - loss: 0.0000e+00 - accuracy: 1.0000 - val_loss: 0.0000e+00 - val_accuracy: 1.0000\n",
            "Epoch 4/10\n",
            "4/4 [==============================] - 1s 237ms/step - loss: 0.0000e+00 - accuracy: 1.0000 - val_loss: 0.0000e+00 - val_accuracy: 1.0000\n",
            "Epoch 5/10\n",
            "4/4 [==============================] - 1s 329ms/step - loss: 0.0000e+00 - accuracy: 1.0000 - val_loss: 0.0000e+00 - val_accuracy: 1.0000\n",
            "Epoch 6/10\n",
            "4/4 [==============================] - 1s 241ms/step - loss: 0.0000e+00 - accuracy: 1.0000 - val_loss: 0.0000e+00 - val_accuracy: 1.0000\n",
            "Epoch 7/10\n",
            "4/4 [==============================] - 1s 235ms/step - loss: 0.0000e+00 - accuracy: 1.0000 - val_loss: 0.0000e+00 - val_accuracy: 1.0000\n",
            "Epoch 8/10\n",
            "4/4 [==============================] - 1s 326ms/step - loss: 0.0000e+00 - accuracy: 1.0000 - val_loss: 0.0000e+00 - val_accuracy: 1.0000\n",
            "Epoch 9/10\n",
            "4/4 [==============================] - 1s 238ms/step - loss: 0.0000e+00 - accuracy: 1.0000 - val_loss: 0.0000e+00 - val_accuracy: 1.0000\n",
            "Epoch 10/10\n",
            "4/4 [==============================] - 1s 227ms/step - loss: 0.0000e+00 - accuracy: 1.0000 - val_loss: 0.0000e+00 - val_accuracy: 1.0000\n"
          ]
        }
      ]
    },
    {
      "cell_type": "markdown",
      "metadata": {
        "id": "zlnZQpxmzcfj"
      },
      "source": [
        "**Q16) Plot the loss (5 points)**"
      ]
    },
    {
      "cell_type": "code",
      "metadata": {
        "id": "cxf8m0VqzI4Q",
        "colab": {
          "base_uri": "https://localhost:8080/",
          "height": 265
        },
        "outputId": "c8b72566-04e5-4d5f-888a-98fefbc19608"
      },
      "source": [
        "##YOUR CODE BEGINS\n",
        "\n",
        "# Plot loss\n",
        "plt.plot(r.history['loss'], label='train loss')\n",
        "plt.plot(r.history['val_loss'], label='val loss')\n",
        "plt.legend()\n",
        "plt.show()\n",
        "\n",
        "##YOUR CODE ENDS"
      ],
      "execution_count": null,
      "outputs": [
        {
          "output_type": "display_data",
          "data": {
            "image/png": "[encoded data removed]",
            "text/plain": [
              "<Figure size 432x288 with 1 Axes>"
            ]
          },
          "metadata": {
            "needs_background": "light"
          }
        }
      ]
    },
    {
      "cell_type": "markdown",
      "metadata": {
        "id": "p7TTW_wTz5qg"
      },
      "source": [
        "**Q17) Plot the accuracy (5 points)**"
      ]
    },
    {
      "cell_type": "code",
      "metadata": {
        "id": "Zllou7AZz_vY",
        "colab": {
          "base_uri": "https://localhost:8080/",
          "height": 265
        },
        "outputId": "8aef7864-abf0-4179-f54d-da64924c98bb"
      },
      "source": [
        "##YOUR CODE BEGINS\n",
        "\n",
        "# Plot accuracies\n",
        "plt.plot(r.history['accuracy'], label='train acc')\n",
        "plt.plot(r.history['val_accuracy'], label='val acc')\n",
        "plt.legend()\n",
        "plt.show()\n",
        "\n",
        "##YOUR CODE ENDS"
      ],
      "execution_count": null,
      "outputs": [
        {
          "output_type": "display_data",
          "data": {
            "image/png": "[encoded data removed]",
            "text/plain": [
              "<Figure size 432x288 with 1 Axes>"
            ]
          },
          "metadata": {
            "needs_background": "light"
          }
        }
      ]
    }
  ]
}