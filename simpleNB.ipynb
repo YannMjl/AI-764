{
  "nbformat": 4,
  "nbformat_minor": 0,
  "metadata": {
    "colab": {
      "name": "simpleNB",
      "provenance": [],
      "authorship_tag": "ABX9TyOAQWbNSiWnXc4HA5rBMmyI"
    },
    "kernelspec": {
      "name": "python3",
      "display_name": "Python 3"
    },
    "language_info": {
      "name": "python"
    },
    "accelerator": "GPU"
  },
  "cells": [
    {
      "cell_type": "code",
      "metadata": {
        "id": "9QdI3npNExBV"
      },
      "source": [
        "# Import the libraries needed\n",
        "import tensorflow as tf\n",
        "import numpy as np\n",
        "from tensorflow import keras\n",
        "\n",
        "# create the model\n",
        "model = tf.keras.Sequential([\n",
        "     keras.layers.Dense(units=1, input_shape=[1])                        \n",
        "])"
      ],
      "execution_count": 3,
      "outputs": []
    },
    {
      "cell_type": "code",
      "metadata": {
        "id": "wjJV-lw_Jj0s"
      },
      "source": [
        "# let's create the model compile \n",
        "# (to set up the optimizer and the loss parameters)\n",
        "# optimizer adjust the weight so that the mean_squared_error\n",
        "# get minimize\n",
        "model.compile(optimizer='sgd', loss='mean_squared_error')\n",
        "\n",
        "# now let's declare the inputs\n",
        "x = np.array([-2,-1,0,1,2,3,4], dtype=float)\n",
        "y = np.array([-2,0,2,4,6,8,10], dtype=float)\n",
        "\n",
        "# let's train the model with the input data\n",
        "model.fit(x, y, epochs=500)"
      ],
      "execution_count": null,
      "outputs": []
    },
    {
      "cell_type": "code",
      "metadata": {
        "colab": {
          "base_uri": "https://localhost:8080/"
        },
        "id": "hwEaqwncJzYj",
        "outputId": "93415076-247c-47a0-fd55-6c4bbec5216a"
      },
      "source": [
        "model.predict([19])"
      ],
      "execution_count": 5,
      "outputs": [
        {
          "output_type": "execute_result",
          "data": {
            "text/plain": [
              "array([[40.002663]], dtype=float32)"
            ]
          },
          "metadata": {},
          "execution_count": 5
        }
      ]
    },
    {
      "cell_type": "code",
      "metadata": {
        "colab": {
          "base_uri": "https://localhost:8080/"
        },
        "id": "tUMg67FvKT6m",
        "outputId": "87515ba3-9813-43da-c70e-c3ded2a3448a"
      },
      "source": [
        "# class exercise to predic car price\n",
        "# for a car with 10 person seats\n",
        "model.predict([10])"
      ],
      "execution_count": 6,
      "outputs": [
        {
          "output_type": "execute_result",
          "data": {
            "text/plain": [
              "array([[22.00104]], dtype=float32)"
            ]
          },
          "metadata": {},
          "execution_count": 6
        }
      ]
    }
  ]
}