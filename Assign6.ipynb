{
  "nbformat": 4,
  "nbformat_minor": 0,
  "metadata": {
    "colab": {
      "name": "Assign6.ipynb",
      "provenance": [],
      "machine_shape": "hm",
      "authorship_tag": "ABX9TyOE1NYepiiI2+O2LWswe1cb"
    },
    "kernelspec": {
      "name": "python3",
      "display_name": "Python 3"
    },
    "language_info": {
      "name": "python"
    },
    "accelerator": "GPU"
  },
  "cells": [
    {
      "cell_type": "code",
      "metadata": {
        "id": "opyO0OsrnBoi"
      },
      "source": [
        "# ----------------------------------------------------------------------------*\n",
        "# SEIS 764 Artificial Intelligence\n",
        "# Assignment 6 :  RNN, LSTM, GRU\n",
        "# auther: Yann Mulonda - November 20, 2021\n",
        "# ----------------------------------------------------------------------------*\n",
        "# Import the libraries needed\n",
        "import numpy as np\n",
        "import pandas as pd\n",
        "from glob import glob\n",
        "import sys, os, zipfile\n",
        "import tensorflow as tf\n",
        "from google.colab import auth\n",
        "import matplotlib.pyplot as plt\n",
        "from pydrive.auth import GoogleAuth\n",
        "from pydrive.drive import GoogleDrive\n",
        "from tensorflow.keras.models import Model\n",
        "from tensorflow.keras.optimizers import SGD, Adam\n",
        "from oauth2client.client import GoogleCredentials\n",
        "from tensorflow.keras.layers import Input, SimpleRNN, GRU, LSTM, Dense, Flatten"
      ],
      "execution_count": 1,
      "outputs": []
    },
    {
      "cell_type": "code",
      "metadata": {
        "colab": {
          "base_uri": "https://localhost:8080/"
        },
        "id": "_JO16rfYngB0",
        "outputId": "be94a471-4594-459c-e431-733f9793c126"
      },
      "source": [
        "# check which runtime GPU I'm using\n",
        "from psutil import virtual_memory\n",
        "ram_gb = virtual_memory().total / 1e9\n",
        "print('Your runtime has {:.1f} gigabytes of available RAM\\n'.format(ram_gb))\n",
        "\n",
        "if ram_gb < 20:\n",
        "  print('Not using a high-RAM runtime')\n",
        "else:\n",
        "  print('You are using a high-RAM runtime!')"
      ],
      "execution_count": 2,
      "outputs": [
        {
          "output_type": "stream",
          "name": "stdout",
          "text": [
            "Your runtime has 27.3 gigabytes of available RAM\n",
            "\n",
            "You are using a high-RAM runtime!\n"
          ]
        }
      ]
    },
    {
      "cell_type": "code",
      "metadata": {
        "id": "TZPHnmgCxkCS"
      },
      "source": [
        "# ----------------------------------------------------------------------------*\n",
        "def datasetInfo(data):\n",
        "  # show dataset info\n",
        "  print(data.info())\n",
        "  # show dataset info - describe dataset\n",
        "  print(data.describe())\n",
        "  # show dataset info - top 10 rows\n",
        "  print(data.head(10))"
      ],
      "execution_count": 3,
      "outputs": []
    },
    {
      "cell_type": "code",
      "metadata": {
        "id": "EPaggZoqo9MT"
      },
      "source": [
        "# ----------------------------------------------------------------------------*\n",
        "# Download the data file saved in the Drive \n",
        "!pip install -U -q PyDrive\n",
        "\n",
        "#File ID\n",
        "file_id = '1WxkT_jgBlScTZVEmdE27VI0Bq0GPazyY'\n",
        "\n",
        "# Authenticate and create the PyDrive client.\n",
        "auth.authenticate_user()\n",
        "gauth = GoogleAuth()\n",
        "gauth.credentials = GoogleCredentials.get_application_default()\n",
        "drive = GoogleDrive(gauth)\n",
        "\n",
        "# Get the humidity.csv file\n",
        "downloaded = drive.CreateFile({'id':file_id})   \n",
        "downloaded.GetContentFile('humidity.csv')   "
      ],
      "execution_count": 4,
      "outputs": []
    },
    {
      "cell_type": "code",
      "metadata": {
        "colab": {
          "base_uri": "https://localhost:8080/"
        },
        "id": "mN0X2xXzxAcV",
        "outputId": "8643a712-60d1-4825-bbd4-fdcfe26a8ce5"
      },
      "source": [
        "# Get and Read data\n",
        "data = pd.read_csv('humidity.csv')\n",
        "datasetInfo(data)"
      ],
      "execution_count": 5,
      "outputs": [
        {
          "output_type": "stream",
          "name": "stdout",
          "text": [
            "<class 'pandas.core.frame.DataFrame'>\n",
            "RangeIndex: 3650 entries, 0 to 3649\n",
            "Data columns (total 1 columns):\n",
            " #   Column    Non-Null Count  Dtype  \n",
            "---  ------    --------------  -----  \n",
            " 0   humidity  3650 non-null   float64\n",
            "dtypes: float64(1)\n",
            "memory usage: 28.6 KB\n",
            "None\n",
            "          humidity\n",
            "count  3650.000000\n",
            "mean     11.177753\n",
            "std       4.071837\n",
            "min       0.000000\n",
            "25%       8.300000\n",
            "50%      11.000000\n",
            "75%      14.000000\n",
            "max      26.300000\n",
            "   humidity\n",
            "0      20.7\n",
            "1      17.9\n",
            "2      18.8\n",
            "3      14.6\n",
            "4      15.8\n",
            "5      15.8\n",
            "6      15.8\n",
            "7      17.4\n",
            "8      21.8\n",
            "9      20.0\n"
          ]
        }
      ]
    },
    {
      "cell_type": "code",
      "metadata": {
        "colab": {
          "base_uri": "https://localhost:8080/",
          "height": 282
        },
        "id": "dlI3eCL-zbN3",
        "outputId": "545eebff-6acb-4089-b7bc-ce860446b235"
      },
      "source": [
        "# plot it\n",
        "#Generating synthetic data of the form sin(kt^2)\n",
        "humidity_data = data['humidity']\n",
        "# series = np.sin(humidity_data**2)\n",
        "series = humidity_data\n",
        "plt.plot(series)\n",
        "plt.show()\n",
        "\n",
        "series.shape"
      ],
      "execution_count": 11,
      "outputs": [
        {
          "output_type": "display_data",
          "data": {
            "image/png": "[encoded data removed]",
            "text/plain": [
              "<Figure size 432x288 with 1 Axes>"
            ]
          },
          "metadata": {
            "needs_background": "light"
          }
        },
        {
          "output_type": "execute_result",
          "data": {
            "text/plain": [
              "(3650,)"
            ]
          },
          "metadata": {},
          "execution_count": 11
        }
      ]
    },
    {
      "cell_type": "code",
      "metadata": {
        "colab": {
          "base_uri": "https://localhost:8080/"
        },
        "id": "HCH4qo-I3hVy",
        "outputId": "b1376354-d59c-4566-c607-3fc89399d57e"
      },
      "source": [
        "# Build the dataset\n",
        "# We will use T past values to predict the next value\n",
        "T = 10\n",
        "D = 1\n",
        "X = []\n",
        "Y = []\n",
        "for t in range(len(series) - T):\n",
        "  x = series[t:t+T]\n",
        "  X.append(x)\n",
        "  y = series[t+T]\n",
        "  Y.append(y)\n",
        "\n",
        "X = np.array(X).reshape(-1, T, 1) # Now the data should be N x T x D\n",
        "Y = np.array(Y)\n",
        "N = len(X)\n",
        "print(\"X.shape\", X.shape, \"Y.shape\", Y.shape)"
      ],
      "execution_count": 12,
      "outputs": [
        {
          "output_type": "stream",
          "name": "stdout",
          "text": [
            "X.shape (3640, 10, 1) Y.shape (3640,)\n"
          ]
        }
      ]
    },
    {
      "cell_type": "code",
      "metadata": {
        "id": "Cakc7lHFB69a"
      },
      "source": [
        "#Build the Simple RNN Model\n",
        "i = Input(shape=(T, 1))\n",
        "\n",
        "# chang the number of unit has a insignificant impact on the model result\n",
        "# x = SimpleRNN(5)(i)\n",
        "x = SimpleRNN(15)(i)\n",
        "\n",
        "# the model is not doing well with relu activation\n",
        "# x = SimpleRNN(15,activation='relu')(i)  \n",
        "\n",
        "x = Dense(1)(x)\n",
        "model = Model(i, x)\n",
        "model.compile(\n",
        "  loss='mse',\n",
        "  optimizer=Adam(learning_rate=0.001),\n",
        ")"
      ],
      "execution_count": 14,
      "outputs": []
    },
    {
      "cell_type": "code",
      "metadata": {
        "colab": {
          "base_uri": "https://localhost:8080/",
          "height": 282
        },
        "id": "95Kev2FxCRYx",
        "outputId": "9b1fdce1-2d2c-4cce-9eea-e1d13810e93a"
      },
      "source": [
        "# train the Model\n",
        "r = model.fit(\n",
        "  X[:N//2], Y[:N//2],\n",
        "  epochs=80,\n",
        "  validation_data=(X[N//2:], Y[N//2:]),\n",
        "  verbose=0,\n",
        ")\n",
        "\n",
        "# Plot loss per iteration\n",
        "import matplotlib.pyplot as plt\n",
        "plt.plot(r.history['loss'], label='loss')\n",
        "plt.plot(r.history['val_loss'], label='val_loss')\n",
        "plt.legend()"
      ],
      "execution_count": 15,
      "outputs": [
        {
          "output_type": "execute_result",
          "data": {
            "text/plain": [
              "<matplotlib.legend.Legend at 0x7f0a3bd6be10>"
            ]
          },
          "metadata": {},
          "execution_count": 15
        },
        {
          "output_type": "display_data",
          "data": {
            "image/png": "[encoded data removed]",
            "text/plain": [
              "<Figure size 432x288 with 1 Axes>"
            ]
          },
          "metadata": {
            "needs_background": "light"
          }
        }
      ]
    },
    {
      "cell_type": "code",
      "metadata": {
        "colab": {
          "base_uri": "https://localhost:8080/",
          "height": 284
        },
        "id": "lUSrzNL2C6o0",
        "outputId": "99c32d83-a535-4f7e-a563-019ffa43a234"
      },
      "source": [
        "# Forecast future values (use only self-predictions for making future predictions)\n",
        "\n",
        "validation_target = Y[N//2:]\n",
        "validation_predictions = []\n",
        "\n",
        "# first validation input\n",
        "last_x = X[N//2] # 1-D array of length T\n",
        "\n",
        "while len(validation_predictions) < len(validation_target):\n",
        "  p = model.predict(last_x.reshape(1, -1, 1))[0,0] # 1x1 array -> scalar\n",
        "  \n",
        "  # update the predictions list\n",
        "  validation_predictions.append(p)\n",
        "  \n",
        "  # make the new input\n",
        "  last_x = np.roll(last_x, -1)\n",
        "  last_x[-1] = p\n",
        "\n",
        "plt.plot(validation_target, label='forecast target')\n",
        "plt.plot(validation_predictions, label='forecast prediction')\n",
        "plt.legend()"
      ],
      "execution_count": 16,
      "outputs": [
        {
          "output_type": "execute_result",
          "data": {
            "text/plain": [
              "<matplotlib.legend.Legend at 0x7f0a3bcff750>"
            ]
          },
          "metadata": {},
          "execution_count": 16
        },
        {
          "output_type": "display_data",
          "data": {
            "image/png": "[encoded data removed]",
            "text/plain": [
              "<Figure size 432x288 with 1 Axes>"
            ]
          },
          "metadata": {
            "needs_background": "light"
          }
        }
      ]
    }
  ]
}