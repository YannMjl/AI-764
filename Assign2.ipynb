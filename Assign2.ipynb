{
  "nbformat": 4,
  "nbformat_minor": 0,
  "metadata": {
    "colab": {
      "name": "Assign2.ipynb",
      "provenance": [],
      "collapsed_sections": [],
      "mount_file_id": "1DZ8opF_Vhc9rNNpphkWndObftOYJF1E7",
      "authorship_tag": "ABX9TyP6MWCPTvk1MiCY5Q8fOM6e"
    },
    "kernelspec": {
      "name": "python3",
      "display_name": "Python 3"
    },
    "language_info": {
      "name": "python"
    },
    "accelerator": "GPU"
  },
  "cells": [
    {
      "cell_type": "code",
      "metadata": {
        "id": "L7-IeDKA0bfJ"
      },
      "source": [
        "# Import the libraries needed\n",
        "import pandas as pd\n",
        "import numpy as np\n",
        "import tensorflow as tf\n",
        "import matplotlib.pyplot as plt\n",
        "from sklearn import preprocessing\n",
        "from sklearn.linear_model import LinearRegression\n",
        "\n",
        "# 1. Load the dataset and print how many data instances we have\n",
        "dataset = pd.read_csv('/content/drive/MyDrive/IA_764/concrete.csv')\n",
        "dataset = pd.DataFrame(dataset)\n",
        "# show dataset info\n",
        "dataset.info()"
      ],
      "execution_count": null,
      "outputs": []
    },
    {
      "cell_type": "code",
      "metadata": {
        "id": "Mlw-mITz4eqM"
      },
      "source": [
        "# show dataset info - describe dataset\n",
        "dataset.describe()"
      ],
      "execution_count": null,
      "outputs": []
    },
    {
      "cell_type": "code",
      "metadata": {
        "id": "GHAVLJRB84bo"
      },
      "source": [
        "# show dataset info - top 10 rows\n",
        "dataset.head(10)"
      ],
      "execution_count": null,
      "outputs": []
    },
    {
      "cell_type": "code",
      "metadata": {
        "id": "cKJtD7Sn4r7g"
      },
      "source": [
        "# 2. Check if there are any missing values in any of the columns\n",
        "# using isnull() function\n",
        "dataset.isnull()\n"
      ],
      "execution_count": null,
      "outputs": []
    },
    {
      "cell_type": "code",
      "metadata": {
        "id": "f-YEIt6N7zmy"
      },
      "source": [
        "# 3.Split the data into the features and the target \n",
        "# Print first few rows of X and y.\n",
        "dataset = dataset.values \n",
        "# Features\n",
        "x = dataset[:,0].reshape(-1,1)\n",
        "# Target \n",
        "y = dataset[:,1]"
      ],
      "execution_count": 63,
      "outputs": []
    },
    {
      "cell_type": "code",
      "metadata": {
        "id": "Erkg03d0-Ko_"
      },
      "source": [
        "# plot the data set\n",
        "plt.scatter(x, y)"
      ],
      "execution_count": null,
      "outputs": []
    },
    {
      "cell_type": "code",
      "metadata": {
        "id": "vLLwTleC_RQ6"
      },
      "source": [
        "# Print first few rows of x - top 10 rows\n",
        "print(x[:10])"
      ],
      "execution_count": null,
      "outputs": []
    },
    {
      "cell_type": "code",
      "metadata": {
        "id": "ij5n__c3B8n7"
      },
      "source": [
        "# Print first few rows of y\n",
        "print(y)"
      ],
      "execution_count": null,
      "outputs": []
    },
    {
      "cell_type": "code",
      "metadata": {
        "id": "AVPnTiClB5y3"
      },
      "source": [
        "# 4.Normalize all columns of X using standardization.\n",
        "x_standardized = preprocessing.scale(x, axis=0) \n",
        "# Print first few rows of standardized X - top 10 rows\n",
        "print(x_standardized[:10])"
      ],
      "execution_count": null,
      "outputs": []
    },
    {
      "cell_type": "code",
      "metadata": {
        "id": "oHZ4ekq6IO74"
      },
      "source": [
        "#learning rate scheduler\n",
        "def learning_rate_scheduler(epoch,lr):\n",
        "  if epoch>=50:\n",
        "    return 0.0001\n",
        "  return 0.001"
      ],
      "execution_count": 73,
      "outputs": []
    },
    {
      "cell_type": "code",
      "metadata": {
        "id": "E8dSWOVWEUmG"
      },
      "source": [
        "# let build a simple NN Regression model\n",
        "def mnRegressionModel(x, y, optimizer_value):\n",
        "  regressor=LinearRegression()\n",
        "  regressor.fit(x,y)\n",
        "\n",
        "  # Now lets define our Tensorflow model\n",
        "  model=tf.keras.models.Sequential([\n",
        "    tf.keras.layers.Dense(units=1,input_shape=[1])\n",
        "  ])\n",
        "\n",
        "  # Specifying learning rate and momentum with desired optimizer\n",
        "  # 30% of thedata for validation\n",
        "  if optimizer_value is 'SGD':\n",
        "    model.compile(\n",
        "        optimizer=tf.keras.optimizers.SGD(0.01, 0.3),loss='mse'\n",
        "        )\n",
        "  elif optimizer_value is 'Adam':\n",
        "    model.compile(\n",
        "        optimizer=tf.keras.optimizers.Adam(0.001, 0.3),loss='mse'\n",
        "        )\n",
        "  else:\n",
        "    model.compile(\n",
        "        optimizer=tf.keras.optimizers.RMSprop(0.001, 0.3),loss='mse'\n",
        "        )\n",
        "\n",
        "  # learning rate scheduler \n",
        "  # calling learning_rate_scheduler function \n",
        "  scheduler=tf.keras.callbacks.LearningRateScheduler(learning_rate_scheduler)\n",
        "  \n",
        "  # Train the model\n",
        "  # Fit function has a parameter for batch_size. \n",
        "  # If unspecified batch_sizewill default to 32.\n",
        "  # Run it for 100 epochs\n",
        "  r = model.fit(x,y, epochs=100, verbose=0, callbacks=[scheduler]) \n",
        "\n",
        "  # get model weights\n",
        "  weights = model.layers[0].get_weights()\n",
        "\n",
        "  model_result = {\n",
        "        \"Intercept\": regressor.intercept_,\n",
        "        \"Coefficient of Regressin\": regressor.coef_,\n",
        "        \"Weoghts\": weights\n",
        "    }\n",
        "\n",
        "  return model_result, r"
      ],
      "execution_count": 97,
      "outputs": []
    },
    {
      "cell_type": "code",
      "metadata": {
        "id": "E5jRVm0QcULJ"
      },
      "source": [
        "def show_result(x, y, optimizer):\n",
        "  output = mnRegressionModel(x, y, optimizer)[0]\n",
        "  r = mnRegressionModel(x, y, optimizer)[1]\n",
        "  plt.plot(r.history['loss'])\n",
        "  print(output)"
      ],
      "execution_count": 93,
      "outputs": []
    },
    {
      "cell_type": "code",
      "metadata": {
        "colab": {
          "base_uri": "https://localhost:8080/",
          "height": 282
        },
        "id": "mHe5A7HgNjU4",
        "outputId": "bc5b85b6-6765-482c-c01c-15242a15bde6"
      },
      "source": [
        "# 5.Build a simple NN Regression model that has one Dense unit. \n",
        "# Specify mean_squared_errorfor the loss and adam for optimizer. \n",
        "# Allocate 30% of the data for validation. Run it for 100 epochs. \n",
        "# Plot the loss plot for training and validation.\n",
        "show_result(x_standardized,y, 'Adam')"
      ],
      "execution_count": 94,
      "outputs": [
        {
          "output_type": "stream",
          "name": "stdout",
          "text": [
            "{'Intercept': 73.89582524271844, 'Coefficient of Regressin': array([-23.73391793]), 'Weoghts': [array([[-2.6355388]], dtype=float32), array([2.0852726], dtype=float32)]}\n"
          ]
        },
        {
          "output_type": "display_data",
          "data": {
            "image/png": "[encoded data removed]",
            "text/plain": [
              "<Figure size 432x288 with 1 Axes>"
            ]
          },
          "metadata": {
            "needs_background": "light"
          }
        }
      ]
    },
    {
      "cell_type": "code",
      "metadata": {
        "colab": {
          "base_uri": "https://localhost:8080/",
          "height": 282
        },
        "id": "TDUHt-ENXGUB",
        "outputId": "ddfab778-ff91-446a-8542-559558e57367"
      },
      "source": [
        "# 6. Build a simple NN Regression model that has one Dense unit. \n",
        "# Specify mean_squared_errorfor the loss and SGD for optimizer. \n",
        "# Allocate 30% of the data for validation. Run it for 100 epochs. \n",
        "# Plot the loss plot for training and validation.\n",
        "show_result(x_standardized,y, 'SGD')"
      ],
      "execution_count": 95,
      "outputs": [
        {
          "output_type": "stream",
          "name": "stdout",
          "text": [
            "{'Intercept': 73.89582524271844, 'Coefficient of Regressin': array([-23.73391793]), 'Weoghts': [array([[-23.709515]], dtype=float32), array([73.921524], dtype=float32)]}\n"
          ]
        },
        {
          "output_type": "display_data",
          "data": {
            "image/png": "[encoded data removed]",
            "text/plain": [
              "<Figure size 432x288 with 1 Axes>"
            ]
          },
          "metadata": {
            "needs_background": "light"
          }
        }
      ]
    },
    {
      "cell_type": "code",
      "metadata": {
        "colab": {
          "base_uri": "https://localhost:8080/",
          "height": 282
        },
        "id": "v5iXrbLdZV4G",
        "outputId": "d4d87997-9056-448b-d7c9-75ab728e9a09"
      },
      "source": [
        "# 7. Build a simple NN Regression model that has one Dense unit. \n",
        "# Specify mean_squared_errorfor the loss and rmspropfor optimizer. \n",
        "# Allocate 30% of the data for validation. Run it for 100 epochs. \n",
        "# Plot the loss plot for training and validation.\n",
        "show_result(x_standardized,y, 'RMSprop')"
      ],
      "execution_count": 96,
      "outputs": [
        {
          "output_type": "stream",
          "name": "stdout",
          "text": [
            "{'Intercept': 73.89582524271844, 'Coefficient of Regressin': array([-23.73391793]), 'Weoghts': [array([[-1.8329535]], dtype=float32), array([2.0939465], dtype=float32)]}\n"
          ]
        },
        {
          "output_type": "display_data",
          "data": {
            "image/png": "[encoded data removed]",
            "text/plain": [
              "<Figure size 432x288 with 1 Axes>"
            ]
          },
          "metadata": {
            "needs_background": "light"
          }
        }
      ]
    },
    {
      "cell_type": "code",
      "metadata": {
        "id": "Yvn3GCVxgC6r"
      },
      "source": [
        "# 8.Which network performed the best? \n",
        "# Do you have ideas on how the performance can be improved?\n",
        "\n",
        "# To get started we know that Optimizers are used to tune the parameters of \n",
        "# the neural network to minimize the cost function. That's being said, I think\n",
        "# SGD performed the best.It has a higher a good learning rate and provided \n",
        "# better result as shown on the plot. \n",
        "\n",
        "# The porformenace can be improved by making chnage on the learning rate and\n",
        "# the percenateg of the data allocated for validation and epochs. \n",
        "# As these have impact on the training"
      ],
      "execution_count": 98,
      "outputs": []
    }
  ]
}