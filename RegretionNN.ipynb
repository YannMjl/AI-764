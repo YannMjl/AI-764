{
  "nbformat": 4,
  "nbformat_minor": 0,
  "metadata": {
    "colab": {
      "name": "RegretionNN",
      "provenance": [],
      "mount_file_id": "1MMKaasZk4GB3QBgM9VJf3xQsjBw_YVGl",
      "authorship_tag": "ABX9TyM2IHmvAcJECLGnO5yNZE6p"
    },
    "kernelspec": {
      "name": "python3",
      "display_name": "Python 3"
    },
    "language_info": {
      "name": "python"
    },
    "accelerator": "GPU"
  },
  "cells": [
    {
      "cell_type": "code",
      "metadata": {
        "id": "xRHOoCpacYxa"
      },
      "source": [
        "# Import the libraries needed\n",
        "import pandas as pd\n",
        "import numpy as np\n",
        "import tensorflow as tf\n",
        "import matplotlib.pyplot as plt\n",
        "from sklearn.linear_model import LinearRegression\n",
        "\n",
        "# connect the dataset\n",
        "dataset = pd.read_csv('/content/drive/MyDrive/IA_764/examScores.csv').values\n",
        "\n",
        "# make it a 2-D array of size N x D where D = 1\n",
        "x = dataset[:,0].reshape(-1,1)\n",
        "y = dataset[:,1]"
      ],
      "execution_count": 5,
      "outputs": []
    },
    {
      "cell_type": "code",
      "metadata": {
        "colab": {
          "base_uri": "https://localhost:8080/",
          "height": 282
        },
        "id": "9wwu68yxe1mV",
        "outputId": "34fe1300-c3d1-4a9d-c0f3-6c6d124ac400"
      },
      "source": [
        "# plot the data set\n",
        "plt.scatter(x, y)"
      ],
      "execution_count": 7,
      "outputs": [
        {
          "output_type": "execute_result",
          "data": {
            "text/plain": [
              "<matplotlib.collections.PathCollection at 0x7f95376c8fd0>"
            ]
          },
          "metadata": {},
          "execution_count": 7
        },
        {
          "output_type": "display_data",
          "data": {
            "image/png": "[encoded data removed]",
            "text/plain": [
              "<Figure size 432x288 with 1 Axes>"
            ]
          },
          "metadata": {
            "needs_background": "light"
          }
        }
      ]
    },
    {
      "cell_type": "code",
      "metadata": {
        "colab": {
          "base_uri": "https://localhost:8080/"
        },
        "id": "aqupdjZFfB4_",
        "outputId": "47eb0cc5-2c43-4cf9-8ab8-2737d0501b29"
      },
      "source": [
        "# let create the linear regression\n",
        "# the model\n",
        "regressor=LinearRegression()\n",
        "regressor.fit(x,y)\n",
        "\n",
        "# let try making a prediction\n",
        "regressor.predict([[5.5]])"
      ],
      "execution_count": 9,
      "outputs": [
        {
          "output_type": "execute_result",
          "data": {
            "text/plain": [
              "array([56.25059205])"
            ]
          },
          "metadata": {},
          "execution_count": 9
        }
      ]
    },
    {
      "cell_type": "code",
      "metadata": {
        "colab": {
          "base_uri": "https://localhost:8080/"
        },
        "id": "mVCPDjWtgdw4",
        "outputId": "1356ef0a-037b-4018-8a11-afb1967f6e42"
      },
      "source": [
        "# Printing weights\n",
        "print(regressor.intercept_)\n",
        "print(regressor.coef_)"
      ],
      "execution_count": 10,
      "outputs": [
        {
          "output_type": "stream",
          "name": "stdout",
          "text": [
            "2.48367340537321\n",
            "[9.77580339]\n"
          ]
        }
      ]
    },
    {
      "cell_type": "code",
      "metadata": {
        "id": "LM5uoColg1jW"
      },
      "source": [
        "# Now lets define our Tensorflow model\n",
        "model=tf.keras.models.Sequential([\n",
        "  tf.keras.layers.Dense(units=1,input_shape=[1])\n",
        "])"
      ],
      "execution_count": 11,
      "outputs": []
    },
    {
      "cell_type": "code",
      "metadata": {
        "id": "IstWgRA-hMLq"
      },
      "source": [
        "# Specifying learning rate and momentum for SGD\n",
        "model.compile(optimizer=tf.keras.optimizers.SGD(0.001, 0.9),loss='mse')"
      ],
      "execution_count": 19,
      "outputs": []
    },
    {
      "cell_type": "code",
      "metadata": {
        "id": "72CAREgVhard"
      },
      "source": [
        "#learning rate scheduler\n",
        "def schedule(epoch,lr):\n",
        "  if epoch>=50:\n",
        "    return 0.0001\n",
        "  return 0.001\n",
        "\n",
        "scheduler=tf.keras.callbacks.LearningRateScheduler(schedule) "
      ],
      "execution_count": 18,
      "outputs": []
    },
    {
      "cell_type": "code",
      "metadata": {
        "id": "WOAxZ7BghtWf"
      },
      "source": [
        "# Train the model\n",
        "# Fit function has a parameter for batch_size. \n",
        "# If unspecified batch_sizewill default to 32.\n",
        "r = model.fit(x,y, epochs=200, callbacks=[scheduler])"
      ],
      "execution_count": null,
      "outputs": []
    },
    {
      "cell_type": "code",
      "metadata": {
        "colab": {
          "base_uri": "https://localhost:8080/"
        },
        "id": "px4pzV14jTPK",
        "outputId": "4e20a638-e43a-43b2-fd41-c5f591f125f0"
      },
      "source": [
        "# Printing the weights\n",
        "print(model.layers[0].get_weights())"
      ],
      "execution_count": 21,
      "outputs": [
        {
          "output_type": "stream",
          "name": "stdout",
          "text": [
            "[array([[9.912359]], dtype=float32), array([1.6391275], dtype=float32)]\n"
          ]
        }
      ]
    },
    {
      "cell_type": "code",
      "metadata": {
        "colab": {
          "base_uri": "https://localhost:8080/",
          "height": 282
        },
        "id": "PHdhaIfCjlqY",
        "outputId": "d178013c-36b9-4176-a68c-772fc410b09e"
      },
      "source": [
        "# Plot the loss\n",
        "plt.plot(r.history['loss'])"
      ],
      "execution_count": 22,
      "outputs": [
        {
          "output_type": "execute_result",
          "data": {
            "text/plain": [
              "[<matplotlib.lines.Line2D at 0x7f95303d9550>]"
            ]
          },
          "metadata": {},
          "execution_count": 22
        },
        {
          "output_type": "display_data",
          "data": {
            "image/png": "[encoded data removed]",
            "text/plain": [
              "<Figure size 432x288 with 1 Axes>"
            ]
          },
          "metadata": {
            "needs_background": "light"
          }
        }
      ]
    },
    {
      "cell_type": "code",
      "metadata": {
        "colab": {
          "base_uri": "https://localhost:8080/"
        },
        "id": "U-d-JZrVjwQs",
        "outputId": "d000a545-d645-4594-9653-281fef9a1c15"
      },
      "source": [
        "# Prediction\n",
        "model.predict([[5.5]])"
      ],
      "execution_count": 23,
      "outputs": [
        {
          "output_type": "execute_result",
          "data": {
            "text/plain": [
              "array([[56.1571]], dtype=float32)"
            ]
          },
          "metadata": {},
          "execution_count": 23
        }
      ]
    }
  ]
}