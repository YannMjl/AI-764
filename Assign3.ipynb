{
  "nbformat": 4,
  "nbformat_minor": 0,
  "metadata": {
    "colab": {
      "name": "Assign3.ipynb",
      "provenance": [],
      "collapsed_sections": [],
      "mount_file_id": "1EJy5XKntY-wZsIRcm919L0nDyb5CcmbP",
      "authorship_tag": "ABX9TyP6unvYzBCK5xbGDmCkzqfF"
    },
    "kernelspec": {
      "name": "python3",
      "display_name": "Python 3"
    },
    "language_info": {
      "name": "python"
    },
    "accelerator": "GPU"
  },
  "cells": [
    {
      "cell_type": "code",
      "metadata": {
        "id": "53SRzMw3DfIB"
      },
      "source": [
        "# ---------------------------------------------------------------*\n",
        "# SEIS 764 Artificial Intelligence\n",
        "# Assignment 3 : build a deep neural network for regression.\n",
        "# auther: Yann Mulonda - October 15, 2021\n",
        "# ---------------------------------------------------------------*\n",
        "# Import the libraries needed\n",
        "import pandas as pd\n",
        "import numpy as np\n",
        "import tensorflow as tf\n",
        "import matplotlib.pyplot as plt\n",
        "from sklearn import preprocessing\n",
        "from sklearn.metrics import confusion_matrix\n",
        "from sklearn.model_selection import GridSearchCV\n",
        "from sklearn.preprocessing import OrdinalEncoder\n",
        "from sklearn.preprocessing import StandardScaler\n",
        "from sklearn.linear_model import LinearRegression\n",
        "from sklearn.compose import make_column_transformer\n",
        "from sklearn.model_selection import cross_val_score\n",
        "from sklearn.model_selection import train_test_split\n",
        "from keras.wrappers.scikit_learn import KerasClassifier \n",
        "from sklearn.preprocessing import LabelEncoder, OneHotEncoder"
      ],
      "execution_count": 547,
      "outputs": []
    },
    {
      "cell_type": "code",
      "metadata": {
        "id": "2KnsWxdCEL7o"
      },
      "source": [
        "# Load the dataset\n",
        "data = pd.read_csv('/content/drive/MyDrive/IA_764/concrete.csv')\n",
        "data_customers = pd.read_csv('/content/drive/MyDrive/IA_764/customers.csv')\n",
        "data_onlineStore = pd.read_csv('/content/drive/MyDrive/IA_764/onlineStore.csv')\n",
        "dataset = pd.DataFrame(data)\n",
        "dataset_c = data_customers\n",
        "dataset_o = data_onlineStore"
      ],
      "execution_count": 504,
      "outputs": []
    },
    {
      "cell_type": "code",
      "metadata": {
        "id": "VtJPQTjvfdSc"
      },
      "source": [
        "def datasetInfo(data):\n",
        "  # show dataset info\n",
        "  print(data.info())\n",
        "  # show dataset info - describe dataset\n",
        "  print(data.describe())\n",
        "  # show dataset info - top 10 rows\n",
        "  print(data.head(10))\n",
        "\n",
        "def splitDataset(data, testSize):\n",
        "  # Split the data into the features and the target \n",
        "  dataset = data.values \n",
        "  # Features\n",
        "  x = dataset[:,0].reshape(-1,1)\n",
        "  # Target \n",
        "  y = dataset[:,1]\n",
        "\n",
        "  # using 70-30 train-test split.\n",
        "  X_train, X_test, y_train, y_test = train_test_split(x, y, test_size=testSize)\n",
        "\n",
        "  numOfInstances, numOfFeatures = X_train.shape\n",
        "\n",
        "  return x, y, X_train, X_test, y_train, y_test, numOfInstances, numOfFeatures"
      ],
      "execution_count": 462,
      "outputs": []
    },
    {
      "cell_type": "code",
      "metadata": {
        "id": "GS_7pdm7EXaY"
      },
      "source": [
        "# -----------------------------------------------------------------------------*\n",
        "# Part 1 : concrete dataset\n",
        "# -----------------------------------------------------------------------------*\n",
        "# datasetInfo(dataset)"
      ],
      "execution_count": 463,
      "outputs": []
    },
    {
      "cell_type": "code",
      "metadata": {
        "id": "hLT3x4esEgeF"
      },
      "source": [
        "# Split the data into the features and the target \n",
        "# using 70-30 train-test split.\n",
        "split = splitDataset(dataset, 0.3)\n",
        "\n",
        "# Features\n",
        "x = split[0]\n",
        "# Target \n",
        "y = split[1]\n",
        "\n",
        "X_train = split[2]\n",
        "X_test = split[3] \n",
        "y_train = split[4] \n",
        "y_test = split[5]\n",
        "\n",
        "numOfInstance = split[6] \n",
        "numOfFeatures = split[7]"
      ],
      "execution_count": 464,
      "outputs": []
    },
    {
      "cell_type": "code",
      "metadata": {
        "id": "7xVNJ_znEk1a"
      },
      "source": [
        "# plot the data set\n",
        "# plt.scatter(x, y)"
      ],
      "execution_count": 465,
      "outputs": []
    },
    {
      "cell_type": "code",
      "metadata": {
        "colab": {
          "base_uri": "https://localhost:8080/"
        },
        "id": "X3Q_SjQAEoH0",
        "outputId": "31369295-4bfe-4671-a243-b76d18db761c"
      },
      "source": [
        "# Normalizing or standardization.\n",
        "scaler = StandardScaler()\n",
        "X_train = scaler.fit_transform(X_train)\n",
        "# we use transform here to avoid data leackage\n",
        "X_test = scaler.transform(X_test)\n",
        "\n",
        "print(\"x_train.shape:\", X_train.shape)\n",
        "print(\"x_test.shape:\", X_test.shape)"
      ],
      "execution_count": 466,
      "outputs": [
        {
          "output_type": "stream",
          "name": "stdout",
          "text": [
            "x_train.shape: (721, 1)\n",
            "x_test.shape: (309, 1)\n"
          ]
        }
      ]
    },
    {
      "cell_type": "code",
      "metadata": {
        "id": "xJD7Mh0aE3RG"
      },
      "source": [
        "#learning rate scheduler\n",
        "def learning_rate_scheduler(epoch,lr):\n",
        "  if epoch>=50:\n",
        "    return 0.0001\n",
        "  return 0.001"
      ],
      "execution_count": 467,
      "outputs": []
    },
    {
      "cell_type": "code",
      "metadata": {
        "id": "_nqXW7W1FA8s"
      },
      "source": [
        "# let build the Regression model\n",
        "def regressionModel(Xtrain, Xtest, ytrain, ytest, numFeatures, optimizer_value):\n",
        "  model = tf.keras.models.Sequential()\n",
        "  # Now lets define our Tensorflow model\n",
        "  model.add(tf.keras.layers.Dense(units=1, \n",
        "                                  input_shape=[numFeatures], \n",
        "                                  activation='sigmoid')\n",
        "            )\n",
        "\n",
        "  # Specifying learning rate and momentum with desired optimizer\n",
        "  if optimizer_value is 'SGD':\n",
        "    opt_value= 'SGD'\n",
        "  elif optimizer_value is 'Adam':\n",
        "    opt_value= 'Adam'\n",
        "  else:\n",
        "    opt_value= 'RMSprop'\n",
        "    \n",
        "  model.compile(\n",
        "        optimizer=opt_value, loss='binary_crossentropy', metrics=['accuracy']\n",
        "        )\n",
        "\n",
        "  # learning rate scheduler \n",
        "  # calling learning_rate_scheduler function \n",
        "  scheduler=tf.keras.callbacks.LearningRateScheduler(learning_rate_scheduler)\n",
        "  \n",
        "  # Train the model\n",
        "  # Fit function has a parameter for batch_size. \n",
        "  # If unspecified batch_sizewill default to 32.\n",
        "  # Run it for 100 epochs\n",
        "  # 30% of thedata for validation - 0.3\n",
        "  # r = model.fit(\n",
        "  #     x,y, epochs=100, validation_split=0.3, verbose=0, callbacks=[scheduler]\n",
        "  #     ) \n",
        "  r = model.fit(Xtrain, \n",
        "                ytrain, \n",
        "                validation_data=(Xtest, ytest), \n",
        "                epochs=100, \n",
        "                verbose=0,\n",
        "                callbacks=[scheduler]\n",
        "                )\n",
        "\n",
        "  # Evaluate the model, loss and accuracy\n",
        "  trainScore = model.evaluate(Xtrain, ytrain)\n",
        "  testScore = model.evaluate(X_test, ytest)\n",
        "\n",
        "  model_result = {\n",
        "        \"Train score\": trainScore,\n",
        "        \"Test score\": testScore,\n",
        "    }\n",
        "\n",
        "  # Make predictions\n",
        "  # they are outputs of the sigmoid, interpreted as probabilities p(y = 1 | x)\n",
        "  y_pred_1 = model.predict(X_test)\n",
        "  # Round to get the actual predictions\n",
        "  # Note: has to be flattened since the targets are size (N,) \n",
        "  # while the predictions are size (N,1)\n",
        "  y_pred_2 = np.round(y_pred_1).flatten()\n",
        "\n",
        "  # Calculate the accuracy, compare it to evaluate() output\n",
        "  manuallyCalculatedAccuracy = np.mean(y_pred_2 == y_test)\n",
        "  evaluateOutput = model.evaluate(X_test, y_test)\n",
        "\n",
        "  predictions_result = {\n",
        "      \"y_pred -- outputs of the sigmoid\": y_pred_1,\n",
        "      \"y_predictions\": y_pred_2,\n",
        "      \"Manually calculated accuracy\": manuallyCalculatedAccuracy,\n",
        "      \"Evaluate output\": evaluateOutput\n",
        "  }\n",
        "\n",
        "  return model_result, r, predictions_result"
      ],
      "execution_count": 468,
      "outputs": []
    },
    {
      "cell_type": "code",
      "metadata": {
        "id": "c_IX7UMFFIt0"
      },
      "source": [
        "# show result \n",
        "def show_result(Xtrain, Xtest, ytrain, ytest, numFeatures, optimizer):\n",
        "  output = regressionModel(Xtrain, Xtest, ytrain, ytest, numFeatures, optimizer)[0]\n",
        "  r = regressionModel(Xtrain, Xtest, ytrain, ytest, numFeatures, optimizer)[1]\n",
        "  predictions = regressionModel(Xtrain, Xtest, ytrain, ytest, numFeatures, optimizer)[1]\n",
        "  \n",
        "  # Plot the loss\n",
        "  plt.plot(r.history['loss'], label='loss')\n",
        "  plt.plot(r.history['val_loss'], label='val_loss')\n",
        "  plt.legend()\n",
        "  plt.show()\n",
        "  # Plot the accuracy \n",
        "  plt.plot(r.history['accuracy'], label='acc')\n",
        "  plt.plot(r.history['val_accuracy'], label='val_acc')\n",
        "  plt.legend()\n",
        "  plt.show()\n",
        "\n",
        "  print(\"{} {}\".format(output, predictions))"
      ],
      "execution_count": 469,
      "outputs": []
    },
    {
      "cell_type": "code",
      "metadata": {
        "id": "ssTV8O2FXHV_"
      },
      "source": [
        "# Adam optimizer\n",
        "# show_result(X_train, X_test, y_train, y_test, numOfFeatures, 'Adam')"
      ],
      "execution_count": 470,
      "outputs": []
    },
    {
      "cell_type": "code",
      "metadata": {
        "id": "NHydypk1C4SD"
      },
      "source": [
        "# SGD optimizer\n",
        "# show_result(X_train, X_test, y_train, y_test, numOfFeatures, 'SGD')"
      ],
      "execution_count": 471,
      "outputs": []
    },
    {
      "cell_type": "code",
      "metadata": {
        "id": "BYj3xlPCC_rQ"
      },
      "source": [
        "# rmsprop optimizer\n",
        "# show_result(X_train, X_test, y_train, y_test, numOfFeatures, 'RMSprop')"
      ],
      "execution_count": 472,
      "outputs": []
    },
    {
      "cell_type": "code",
      "metadata": {
        "colab": {
          "base_uri": "https://localhost:8080/"
        },
        "id": "4FwPcuWXdatl",
        "outputId": "90494fed-c7ba-4345-f049-b3692c9a5196"
      },
      "source": [
        "# -----------------------------------------------------------------------------*\n",
        "# Part 2 : customers dataset\n",
        "# -----------------------------------------------------------------------------*\n",
        "# show dataset info\n",
        "# datasetInfo(dataset_c)\n",
        "\n",
        "def splitCustomerDataset(data, testSize):\n",
        "  # Split the data into the features and the target \n",
        "  # Features\n",
        "  x = data.iloc[:,3:13].values\n",
        "  # Target \n",
        "  y = data.iloc[:,13].values\n",
        "\n",
        "  #Label Encoding Gender\n",
        "  labelencoder_X = LabelEncoder()\n",
        "  x[:, 2] = labelencoder_X.fit_transform(x[:, 2])\n",
        "\n",
        "  #Dealing with the categorical Geography column\n",
        "  onehotencoder = make_column_transformer((OneHotEncoder(),\n",
        "                                           [1]), \n",
        "                                          remainder='passthrough'\n",
        "                                          )\n",
        "  x = onehotencoder.fit_transform(x)\n",
        "\n",
        "  #Removing the extra dummy variable\n",
        "  x = x[:, 1:]\n",
        "\n",
        "  # using 70-30 train-test split.\n",
        "  X_train, X_test, y_train, y_test = train_test_split(x, y, test_size=testSize)\n",
        "\n",
        "  return x, y, X_train, X_test, y_train, y_test"
      ],
      "execution_count": 489,
      "outputs": [
        {
          "output_type": "stream",
          "name": "stdout",
          "text": [
            "<class 'pandas.core.frame.DataFrame'>\n",
            "RangeIndex: 10000 entries, 0 to 9999\n",
            "Data columns (total 14 columns):\n",
            " #   Column           Non-Null Count  Dtype  \n",
            "---  ------           --------------  -----  \n",
            " 0   RowNumber        10000 non-null  int64  \n",
            " 1   CustomerId       10000 non-null  int64  \n",
            " 2   Lastname         10000 non-null  object \n",
            " 3   CreditScore      10000 non-null  int64  \n",
            " 4   Geography        10000 non-null  object \n",
            " 5   Gender           10000 non-null  object \n",
            " 6   Age              10000 non-null  int64  \n",
            " 7   Tenure           10000 non-null  int64  \n",
            " 8   Balance          10000 non-null  float64\n",
            " 9   NumOfProducts    10000 non-null  int64  \n",
            " 10  HasCrCard        10000 non-null  int64  \n",
            " 11  IsActiveMember   10000 non-null  int64  \n",
            " 12  EstimatedSalary  10000 non-null  float64\n",
            " 13  Left             10000 non-null  int64  \n",
            "dtypes: float64(2), int64(9), object(3)\n",
            "memory usage: 1.1+ MB\n",
            "None\n",
            "         RowNumber    CustomerId  ...  EstimatedSalary          Left\n",
            "count  10000.00000  1.000000e+04  ...     10000.000000  10000.000000\n",
            "mean    5000.50000  1.569094e+07  ...    100090.239881      0.203700\n",
            "std     2886.89568  7.193619e+04  ...     57510.492818      0.402769\n",
            "min        1.00000  1.556570e+07  ...        11.580000      0.000000\n",
            "25%     2500.75000  1.562853e+07  ...     51002.110000      0.000000\n",
            "50%     5000.50000  1.569074e+07  ...    100193.915000      0.000000\n",
            "75%     7500.25000  1.575323e+07  ...    149388.247500      0.000000\n",
            "max    10000.00000  1.581569e+07  ...    199992.480000      1.000000\n",
            "\n",
            "[8 rows x 11 columns]\n",
            "   RowNumber  CustomerId  Lastname  ...  IsActiveMember EstimatedSalary Left\n",
            "0          1    15634602  Hargrave  ...               1       101348.88    1\n",
            "1          2    15647311      Hill  ...               1       112542.58    0\n",
            "2          3    15619304      Onio  ...               0       113931.57    1\n",
            "3          4    15701354      Boni  ...               0        93826.63    0\n",
            "4          5    15737888  Mitchell  ...               1        79084.10    0\n",
            "5          6    15574012       Chu  ...               0       149756.71    1\n",
            "6          7    15592531  Bartlett  ...               1        10062.80    0\n",
            "7          8    15656148    Obinna  ...               0       119346.88    1\n",
            "8          9    15792365        He  ...               1        74940.50    0\n",
            "9         10    15592389        H?  ...               1        71725.73    0\n",
            "\n",
            "[10 rows x 14 columns]\n"
          ]
        }
      ]
    },
    {
      "cell_type": "code",
      "metadata": {
        "id": "AJU2O0rINJg3"
      },
      "source": [
        "# Split the Customers data into the features and the target \n",
        "# using 70-30 train-test split.\n",
        "split = splitCustomerDataset(dataset_c, 0.3)\n",
        "\n",
        "# Features\n",
        "x = split[0]\n",
        "# Target \n",
        "y = split[1]\n",
        "\n",
        "X_train = split[2]\n",
        "X_test = split[3] \n",
        "y_train = split[4] \n",
        "y_test = split[5]"
      ],
      "execution_count": 474,
      "outputs": []
    },
    {
      "cell_type": "code",
      "metadata": {
        "colab": {
          "base_uri": "https://localhost:8080/"
        },
        "id": "XEfZyL5fS8Vm",
        "outputId": "b9aca54c-7543-4a4e-c669-99621e1723a1"
      },
      "source": [
        "# Normalizing or standardization.\n",
        "scaler = StandardScaler()\n",
        "X_train = scaler.fit_transform(X_train)\n",
        "# we use transform here to avoid data leackage\n",
        "X_test = scaler.transform(X_test)\n",
        "\n",
        "print(\"x_train.shape:\", X_train.shape)\n",
        "print(\"x_test.shape:\", X_test.shape)"
      ],
      "execution_count": 475,
      "outputs": [
        {
          "output_type": "stream",
          "name": "stdout",
          "text": [
            "x_train.shape: (7000, 11)\n",
            "x_test.shape: (3000, 11)\n"
          ]
        }
      ]
    },
    {
      "cell_type": "code",
      "metadata": {
        "id": "VUc31ezvTOjc"
      },
      "source": [
        "# Build the model for customer data\n",
        "# Define the model\n",
        "model = tf.keras.models.Sequential()\n",
        "\n",
        "#Adding a first layer \n",
        "model.add(tf.keras.layers.Dense(units=6, input_shape=[11], activation='relu'))\n",
        "# model.add(tf.keras.layers.Dropout(0.1))\n",
        "#Adding a second hidden layer\n",
        "model.add(tf.keras.layers.Dense(units=6, activation='relu'))\n",
        "# model.add(tf.keras.layers.Dropout(0.1))\n",
        "\n",
        "#Adding an output layer\n",
        "model.add(tf.keras.layers.Dense(units=1, activation='sigmoid'))\n",
        "\n",
        "model.compile(optimizer='adam',\n",
        "              loss='binary_crossentropy',\n",
        "              metrics=['accuracy'])\n"
      ],
      "execution_count": 476,
      "outputs": []
    },
    {
      "cell_type": "code",
      "metadata": {
        "colab": {
          "base_uri": "https://localhost:8080/"
        },
        "id": "q6d7xbwg_c0W",
        "outputId": "111a7d0f-f362-4857-f3cd-024253b644cf"
      },
      "source": [
        "# Train the model\n",
        "r = model.fit(X_train, y_train, validation_data=(X_test, y_test), epochs=100, verbose=0)\n",
        "\n",
        "# Evaluate the model, prints loss and accuracy\n",
        "print(\"Train score:\", model.evaluate(X_train, y_train))\n",
        "print(\"Test score:\", model.evaluate(X_test, y_test))"
      ],
      "execution_count": 477,
      "outputs": [
        {
          "output_type": "stream",
          "name": "stdout",
          "text": [
            "219/219 [==============================] - 0s 1ms/step - loss: 0.3310 - accuracy: 0.8599\n",
            "Train score: [0.3309727609157562, 0.8598571419715881]\n",
            "94/94 [==============================] - 0s 1ms/step - loss: 0.3359 - accuracy: 0.8633\n",
            "Test score: [0.3359313905239105, 0.8633333444595337]\n"
          ]
        }
      ]
    },
    {
      "cell_type": "code",
      "metadata": {
        "colab": {
          "base_uri": "https://localhost:8080/",
          "height": 282
        },
        "id": "kAIRU4NmTu4G",
        "outputId": "772b2ca5-10b0-49f1-b1b1-c4c2fca0061a"
      },
      "source": [
        "# Plot loss per iteration\n",
        "plt.plot(r.history['loss'], label='loss')\n",
        "plt.plot(r.history['val_loss'], label='val_loss')\n",
        "plt.legend()\n",
        "\n",
        "# Plot accuracy per iteration\n",
        "plt.plot(r.history['accuracy'], label='acc')\n",
        "plt.plot(r.history['val_accuracy'], label='val_acc')\n",
        "plt.legend()"
      ],
      "execution_count": 478,
      "outputs": [
        {
          "output_type": "execute_result",
          "data": {
            "text/plain": [
              "<matplotlib.legend.Legend at 0x7f5f5e6ad650>"
            ]
          },
          "metadata": {},
          "execution_count": 478
        },
        {
          "output_type": "display_data",
          "data": {
            "image/png": "[encoded data removed]",
            "text/plain": [
              "<Figure size 432x288 with 1 Axes>"
            ]
          },
          "metadata": {
            "needs_background": "light"
          }
        }
      ]
    },
    {
      "cell_type": "code",
      "metadata": {
        "colab": {
          "base_uri": "https://localhost:8080/"
        },
        "id": "YMWSzoisEd3t",
        "outputId": "8644e918-f478-44c4-f1ac-d50d84e96fe9"
      },
      "source": [
        "# Making predictions and evaluating the model\n",
        "# Predicting the Test set results\n",
        "y_pred = model.predict(X_test)\n",
        "\n",
        "# perform prediction on the following customer:\n",
        "# •Credit Score: 600 \n",
        "# •Geography: France\n",
        "# •Gender: Male\n",
        "# •Age: 40 years old\n",
        "# •Tenure: 3 years\n",
        "# •Balance: $60000\n",
        "# •Number of Products: 2\n",
        "# •Does this customer have a credit card ? Yes\n",
        "# •Is this customer an Active Member: Yes\n",
        "# •Estimated Salary: $50000\n",
        "customer_prediction = model.predict(scaler.transform(np.array([[0.0, 0, 600, 1, 40, 3, 60000, 2, 1, 1, 50000]])))\n",
        "\n",
        "print(\"Predicting the Test set results: \", y_pred)\n",
        "print(\"Customer Prediction: \", customer_prediction)"
      ],
      "execution_count": 479,
      "outputs": [
        {
          "output_type": "stream",
          "name": "stdout",
          "text": [
            "Predicting the Test set results:  [[0.08141151]\n",
            " [0.10205412]\n",
            " [0.01296899]\n",
            " ...\n",
            " [0.5269806 ]\n",
            " [0.05801788]\n",
            " [0.04955089]]\n",
            "Customer Prediction:  [[0.03438199]]\n"
          ]
        }
      ]
    },
    {
      "cell_type": "code",
      "metadata": {
        "id": "0fFLdSJUG5So"
      },
      "source": [
        "#Confusion Matrix\n",
        "# cm = confusion_matrix(y_test, y_pred)\n",
        "# # cm = confusion_matrix(y_test, customer_prediction)\n",
        "# print(\"               Predicted Label\")\n",
        "# print(cm)"
      ],
      "execution_count": 480,
      "outputs": []
    },
    {
      "cell_type": "code",
      "metadata": {
        "colab": {
          "base_uri": "https://localhost:8080/"
        },
        "id": "cSSMdYTkmF7P",
        "outputId": "2215b903-de21-4858-80f2-815413fd33e6"
      },
      "source": [
        "def buildNN():\n",
        "    # Define the model\n",
        "    model = tf.keras.models.Sequential()\n",
        "\n",
        "    #Adding an input layer and one hidden layer\n",
        "    model.add(tf.keras.layers.Dense(units=6, input_shape=[11], activation='relu'))\n",
        "    model.add(tf.keras.layers.Dropout(0.1))\n",
        "\n",
        "    #Adding a second hidden layer\n",
        "    model.add(tf.keras.layers.Dense(units=6, activation='relu'))\n",
        "    model.add(tf.keras.layers.Dropout(0.1))\n",
        "\n",
        "    #Adding an output layer\n",
        "    model.add(tf.keras.layers.Dense(units=1, activation='sigmoid'))\n",
        "\n",
        "    model.compile(optimizer='adam', loss='binary_crossentropy', metrics=['accuracy'])\n",
        "    \n",
        "    return model\n",
        "\n",
        "classifier = KerasClassifier(build_fn = buildNN, batch_size=10, epochs=100)\n",
        "accuracy = cross_val_score(estimator = classifier, X = X_train, y=y_train, cv=10, n_jobs=-1,verbose=3)\n",
        "\n",
        "accuracy\n",
        "\n",
        "meanAcc = accuracy.mean()\n",
        "stdDevAcc = accuracy.std()\n",
        "\n",
        "meanAcc\n",
        "\n",
        "stdDevAcc\n"
      ],
      "execution_count": 549,
      "outputs": [
        {
          "output_type": "stream",
          "name": "stderr",
          "text": [
            "[Parallel(n_jobs=-1)]: Using backend LokyBackend with 2 concurrent workers.\n",
            "[Parallel(n_jobs=-1)]: Done  10 out of  10 | elapsed:    5.4s finished\n"
          ]
        },
        {
          "output_type": "execute_result",
          "data": {
            "text/plain": [
              "nan"
            ]
          },
          "metadata": {},
          "execution_count": 549
        }
      ]
    },
    {
      "cell_type": "code",
      "metadata": {
        "id": "cRPFobQpmnwS"
      },
      "source": [
        "# Hyperparameter tuning of Neural Network\n",
        "# def buildNN(optimizer):\n",
        "#     model = tf.keras.models.Sequential()\n",
        "#     model.add(tf.keras.layers.Dense(units=6, input_shape=[11], activation='relu'))\n",
        "#     model.add(tf.keras.layers.Dropout(0.1))\n",
        "#     model.add(tf.keras.layers.Dense(units=6, activation='relu'))\n",
        "#     model.add(tf.keras.layers.Dropout(0.1))\n",
        "#     model.add(tf.keras.layers.Dense(units=1, activation='sigmoid'))\n",
        "#     model.compile(optimizer=optimizer, loss='binary_crossentropy', metrics=['accuracy'])\n",
        "#     return model\n",
        "\n",
        "# classifier = KerasClassifier(build_fn = buildNN)\n",
        "# parameters = {'batch_size':[25,32], 'epochs':[100,500], 'optimizer':['adam','rmsprop']}\n",
        "# grid_search = GridSearchCV(estimator =classifier, param_grid=parameters, scoring='accuracy', cv=10)\n",
        "# grid_search = grid_search.fit(X_train, y_train)\n",
        "# best_param = grid_search.best_params_\n",
        "# best_acc=grid_search.best_score_\n",
        "\n",
        "# print(best_param)\n",
        "# print(best_acc)"
      ],
      "execution_count": 553,
      "outputs": []
    },
    {
      "cell_type": "code",
      "metadata": {
        "id": "tZkPbFRvN1Sa"
      },
      "source": [
        "# -----------------------------------------------------------------------------*\n",
        "# Part 3 : OnlineStore dataset\n",
        "# -----------------------------------------------------------------------------*\n",
        "# show online Store dataset info\n",
        "# datasetInfo(dataset_o)\n",
        "\n",
        "def splitOnlineStoreDataset(data):\n",
        "  # Split the data into the features and the target \n",
        "  # Features\n",
        "  x = dataset_o.iloc[:, 0:5].values\n",
        "  # Target \n",
        "  y = dataset_o.iloc[:, 5].values\n",
        "\n",
        "  #Label Encoding Gender\n",
        "  labelencoder_X = LabelEncoder()\n",
        "  x[:, 4] = labelencoder_X.fit_transform(x[:, 4])\n",
        "\n",
        "  # #Dealing with the categorical Geography column\n",
        "  onehotencoder = make_column_transformer((OneHotEncoder(),\n",
        "                                            [1]), \n",
        "                                          remainder='passthrough'\n",
        "                                          )\n",
        "  x = onehotencoder.fit_transform(x)\n",
        "\n",
        "  # #Removing the extra dummy variable\n",
        "  # x = x[:, 1:]\n",
        "\n",
        "  # using 70-30 train-test split.\n",
        "  X_train, X_test, y_train, y_test = train_test_split(x, y, test_size=0.3)\n",
        "\n",
        "  return x, y, X_train, X_test, y_train, y_test"
      ],
      "execution_count": 562,
      "outputs": []
    },
    {
      "cell_type": "code",
      "metadata": {
        "colab": {
          "base_uri": "https://localhost:8080/"
        },
        "id": "KIJkpYupVEWg",
        "outputId": "b91542c5-39a3-4add-8428-828548473834"
      },
      "source": [
        "# # Split the Customers data into the features and the target \n",
        "split = splitOnlineStoreDataset(dataset_o)\n",
        "\n",
        "# Features\n",
        "x = split[0]\n",
        "# Target \n",
        "y = split[1]\n",
        "\n",
        "X_train = split[2]\n",
        "X_test = split[3] \n",
        "y_train = split[4] \n",
        "y_test = split[5]\n",
        "\n",
        "# Normalizing or standardization.\n",
        "scaler = StandardScaler()\n",
        "X_train = scaler.fit_transform(X_train)\n",
        "# we use transform here to avoid data leackage\n",
        "X_test = scaler.transform(X_test)\n",
        "\n",
        "print(\"x_train.shape:\", X_train.shape)\n",
        "print(\"x_test.shape:\", X_test.shape)"
      ],
      "execution_count": 563,
      "outputs": [
        {
          "output_type": "stream",
          "name": "stdout",
          "text": [
            "x_train.shape: (350, 9)\n",
            "x_test.shape: (150, 9)\n"
          ]
        }
      ]
    },
    {
      "cell_type": "code",
      "metadata": {
        "id": "ppaKtmpqlxnd"
      },
      "source": [
        "# Define the model\n",
        "model = tf.keras.models.Sequential()\n",
        "\n",
        "#Adding a first layer \n",
        "model.add(tf.keras.layers.Dense(units=6, input_shape=[11], activation='relu'))\n",
        "# model.add(tf.keras.layers.Dropout(0.1))\n",
        "#Adding a second hidden layer\n",
        "model.add(tf.keras.layers.Dense(units=6, activation='relu'))\n",
        "# model.add(tf.keras.layers.Dropout(0.1))\n",
        "\n",
        "#Adding an output layer\n",
        "model.add(tf.keras.layers.Dense(units=1, activation='sigmoid'))\n",
        "\n",
        "model.compile(optimizer='adam',\n",
        "              loss='binary_crossentropy',\n",
        "              metrics=['accuracy'])\n",
        "\n",
        "# Train the model\n",
        "# r = model.fit(X_train, y_train, validation_data=(X_test, y_test), epochs=100, verbose=0)"
      ],
      "execution_count": 566,
      "outputs": []
    },
    {
      "cell_type": "code",
      "metadata": {
        "id": "vDxtnaeIrRlj"
      },
      "source": [
        "# Note\n",
        "# I really struggled with Part 3 and was not to complete the before the dealine \n",
        "# I'm doing addiotnal reading on the sectoion. Thanks!"
      ],
      "execution_count": null,
      "outputs": []
    }
  ]
}