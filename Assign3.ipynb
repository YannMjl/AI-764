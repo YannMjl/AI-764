{
  "nbformat": 4,
  "nbformat_minor": 0,
  "metadata": {
    "colab": {
      "name": "Assign3.ipynb",
      "provenance": [],
      "collapsed_sections": [],
      "mount_file_id": "1EJy5XKntY-wZsIRcm919L0nDyb5CcmbP",
      "authorship_tag": "ABX9TyMrqzq77Y0kE3MoqRF5/+KN"
    },
    "kernelspec": {
      "name": "python3",
      "display_name": "Python 3"
    },
    "language_info": {
      "name": "python"
    },
    "accelerator": "GPU"
  },
  "cells": [
    {
      "cell_type": "code",
      "metadata": {
        "id": "53SRzMw3DfIB"
      },
      "source": [
        "# ---------------------------------------------------------------*\n",
        "# SEIS 764 Artificial Intelligence\n",
        "# Assignment 3 : build a deep neural network for regression.\n",
        "# auther: Yann Mulonda - October 15, 2021\n",
        "# ---------------------------------------------------------------*\n",
        "# Import the libraries needed\n",
        "import pandas as pd\n",
        "import numpy as np\n",
        "import tensorflow as tf\n",
        "import matplotlib.pyplot as plt\n",
        "from sklearn import preprocessing\n",
        "from sklearn.metrics import confusion_matrix\n",
        "from sklearn.model_selection import GridSearchCV\n",
        "from sklearn.preprocessing import OrdinalEncoder\n",
        "from sklearn.preprocessing import StandardScaler\n",
        "from sklearn.linear_model import LinearRegression\n",
        "from sklearn.compose import make_column_transformer\n",
        "from sklearn.model_selection import cross_val_score\n",
        "from sklearn.model_selection import train_test_split\n",
        "from keras.wrappers.scikit_learn import KerasClassifier \n",
        "from sklearn.preprocessing import LabelEncoder, OneHotEncoder"
      ],
      "execution_count": 567,
      "outputs": []
    },
    {
      "cell_type": "code",
      "metadata": {
        "id": "2KnsWxdCEL7o"
      },
      "source": [
        "# Load the dataset\n",
        "data = pd.read_csv('/content/drive/MyDrive/IA_764/concrete.csv')\n",
        "data_customers = pd.read_csv('/content/drive/MyDrive/IA_764/customers.csv')\n",
        "data_onlineStore = pd.read_csv('/content/drive/MyDrive/IA_764/onlineStore.csv')\n",
        "dataset = pd.DataFrame(data)\n",
        "dataset_c = data_customers\n",
        "dataset_o = data_onlineStore"
      ],
      "execution_count": 568,
      "outputs": []
    },
    {
      "cell_type": "code",
      "metadata": {
        "id": "VtJPQTjvfdSc"
      },
      "source": [
        "def datasetInfo(data):\n",
        "  # show dataset info\n",
        "  print(data.info())\n",
        "  # show dataset info - describe dataset\n",
        "  print(data.describe())\n",
        "  # show dataset info - top 10 rows\n",
        "  print(data.head(10))\n",
        "\n",
        "def splitDataset(data, testSize):\n",
        "  # Split the data into the features and the target \n",
        "  dataset = data.values \n",
        "  # Features\n",
        "  x = dataset[:,0].reshape(-1,1)\n",
        "  # Target \n",
        "  y = dataset[:,1]\n",
        "\n",
        "  # using 70-30 train-test split.\n",
        "  X_train, X_test, y_train, y_test = train_test_split(x, y, test_size=testSize)\n",
        "\n",
        "  numOfInstances, numOfFeatures = X_train.shape\n",
        "\n",
        "  return x, y, X_train, X_test, y_train, y_test, numOfInstances, numOfFeatures"
      ],
      "execution_count": 569,
      "outputs": []
    },
    {
      "cell_type": "code",
      "metadata": {
        "colab": {
          "base_uri": "https://localhost:8080/"
        },
        "id": "GS_7pdm7EXaY",
        "outputId": "4e82a297-32b3-44cc-d47e-7c4691f37ca0"
      },
      "source": [
        "# -----------------------------------------------------------------------------*\n",
        "# Part 1 : concrete dataset\n",
        "# -----------------------------------------------------------------------------*\n",
        "datasetInfo(dataset)"
      ],
      "execution_count": 570,
      "outputs": [
        {
          "output_type": "stream",
          "name": "stdout",
          "text": [
            "<class 'pandas.core.frame.DataFrame'>\n",
            "RangeIndex: 1030 entries, 0 to 1029\n",
            "Data columns (total 9 columns):\n",
            " #   Column              Non-Null Count  Dtype  \n",
            "---  ------              --------------  -----  \n",
            " 0   Cement              1030 non-null   float64\n",
            " 1   Blast Furnace Slag  1030 non-null   float64\n",
            " 2   Fly Ash             1030 non-null   float64\n",
            " 3   Water               1030 non-null   float64\n",
            " 4   Superplasticizer    1030 non-null   float64\n",
            " 5   Coarse Aggregate    1030 non-null   float64\n",
            " 6   Fine Aggregate      1030 non-null   float64\n",
            " 7   Age                 1030 non-null   int64  \n",
            " 8   Strength            1030 non-null   float64\n",
            "dtypes: float64(8), int64(1)\n",
            "memory usage: 72.5 KB\n",
            "None\n",
            "            Cement  Blast Furnace Slag  ...          Age     Strength\n",
            "count  1030.000000         1030.000000  ...  1030.000000  1030.000000\n",
            "mean    281.167864           73.895825  ...    45.662136    35.817961\n",
            "std     104.506364           86.279342  ...    63.169912    16.705742\n",
            "min     102.000000            0.000000  ...     1.000000     2.330000\n",
            "25%     192.375000            0.000000  ...     7.000000    23.710000\n",
            "50%     272.900000           22.000000  ...    28.000000    34.445000\n",
            "75%     350.000000          142.950000  ...    56.000000    46.135000\n",
            "max     540.000000          359.400000  ...   365.000000    82.600000\n",
            "\n",
            "[8 rows x 9 columns]\n",
            "   Cement  Blast Furnace Slag  Fly Ash  ...  Fine Aggregate  Age  Strength\n",
            "0   540.0                 0.0      0.0  ...           676.0   28     79.99\n",
            "1   540.0                 0.0      0.0  ...           676.0   28     61.89\n",
            "2   332.5               142.5      0.0  ...           594.0  270     40.27\n",
            "3   332.5               142.5      0.0  ...           594.0  365     41.05\n",
            "4   198.6               132.4      0.0  ...           825.5  360     44.30\n",
            "5   266.0               114.0      0.0  ...           670.0   90     47.03\n",
            "6   380.0                95.0      0.0  ...           594.0  365     43.70\n",
            "7   380.0                95.0      0.0  ...           594.0   28     36.45\n",
            "8   266.0               114.0      0.0  ...           670.0   28     45.85\n",
            "9   475.0                 0.0      0.0  ...           594.0   28     39.29\n",
            "\n",
            "[10 rows x 9 columns]\n"
          ]
        }
      ]
    },
    {
      "cell_type": "code",
      "metadata": {
        "id": "hLT3x4esEgeF"
      },
      "source": [
        "# Split the data into the features and the target \n",
        "# using 70-30 train-test split.\n",
        "split = splitDataset(dataset, 0.3)\n",
        "\n",
        "# Features\n",
        "x = split[0]\n",
        "# Target \n",
        "y = split[1]\n",
        "\n",
        "X_train = split[2]\n",
        "X_test = split[3] \n",
        "y_train = split[4] \n",
        "y_test = split[5]\n",
        "\n",
        "numOfInstance = split[6] \n",
        "numOfFeatures = split[7]"
      ],
      "execution_count": 571,
      "outputs": []
    },
    {
      "cell_type": "code",
      "metadata": {
        "colab": {
          "base_uri": "https://localhost:8080/",
          "height": 282
        },
        "id": "7xVNJ_znEk1a",
        "outputId": "2dd49125-29ea-4f57-cbe0-a987b9df7640"
      },
      "source": [
        "# plot the data set\n",
        "plt.scatter(x, y)"
      ],
      "execution_count": 572,
      "outputs": [
        {
          "output_type": "execute_result",
          "data": {
            "text/plain": [
              "<matplotlib.collections.PathCollection at 0x7f5f5d786690>"
            ]
          },
          "metadata": {},
          "execution_count": 572
        },
        {
          "output_type": "display_data",
          "data": {
            "image/png": "[encoded data removed]",
            "text/plain": [
              "<Figure size 432x288 with 1 Axes>"
            ]
          },
          "metadata": {
            "needs_background": "light"
          }
        }
      ]
    },
    {
      "cell_type": "code",
      "metadata": {
        "colab": {
          "base_uri": "https://localhost:8080/"
        },
        "id": "X3Q_SjQAEoH0",
        "outputId": "b701d61b-981c-43a9-a914-4cecdb962307"
      },
      "source": [
        "# Normalizing or standardization.\n",
        "scaler = StandardScaler()\n",
        "X_train = scaler.fit_transform(X_train)\n",
        "# we use transform here to avoid data leackage\n",
        "X_test = scaler.transform(X_test)\n",
        "\n",
        "print(\"x_train.shape:\", X_train.shape)\n",
        "print(\"x_test.shape:\", X_test.shape)"
      ],
      "execution_count": 573,
      "outputs": [
        {
          "output_type": "stream",
          "name": "stdout",
          "text": [
            "x_train.shape: (721, 1)\n",
            "x_test.shape: (309, 1)\n"
          ]
        }
      ]
    },
    {
      "cell_type": "code",
      "metadata": {
        "id": "xJD7Mh0aE3RG"
      },
      "source": [
        "#learning rate scheduler\n",
        "def learning_rate_scheduler(epoch,lr):\n",
        "  if epoch>=50:\n",
        "    return 0.0001\n",
        "  return 0.001"
      ],
      "execution_count": 574,
      "outputs": []
    },
    {
      "cell_type": "code",
      "metadata": {
        "id": "_nqXW7W1FA8s"
      },
      "source": [
        "# let build the Regression model\n",
        "def regressionModel(Xtrain, Xtest, ytrain, ytest, numFeatures, optimizer_value):\n",
        "  model = tf.keras.models.Sequential()\n",
        "  # Now lets define our Tensorflow model\n",
        "  model.add(tf.keras.layers.Dense(units=1, \n",
        "                                  input_shape=[numFeatures], \n",
        "                                  activation='sigmoid')\n",
        "            )\n",
        "\n",
        "  # Specifying learning rate and momentum with desired optimizer\n",
        "  if optimizer_value is 'SGD':\n",
        "    opt_value= 'SGD'\n",
        "  elif optimizer_value is 'Adam':\n",
        "    opt_value= 'Adam'\n",
        "  else:\n",
        "    opt_value= 'RMSprop'\n",
        "    \n",
        "  model.compile(\n",
        "        optimizer=opt_value, loss='binary_crossentropy', metrics=['accuracy']\n",
        "        )\n",
        "\n",
        "  # learning rate scheduler \n",
        "  # calling learning_rate_scheduler function \n",
        "  scheduler=tf.keras.callbacks.LearningRateScheduler(learning_rate_scheduler)\n",
        "  \n",
        "  # Train the model\n",
        "  r = model.fit(Xtrain, \n",
        "                ytrain, \n",
        "                validation_data=(Xtest, ytest), \n",
        "                epochs=100, \n",
        "                verbose=0,\n",
        "                callbacks=[scheduler]\n",
        "                )\n",
        "\n",
        "  # Evaluate the model, loss and accuracy\n",
        "  trainScore = model.evaluate(Xtrain, ytrain)\n",
        "  testScore = model.evaluate(X_test, ytest)\n",
        "\n",
        "  model_result = {\n",
        "        \"Train score\": trainScore,\n",
        "        \"Test score\": testScore,\n",
        "    }\n",
        "\n",
        "  # Make predictions\n",
        "  # they are outputs of the sigmoid, interpreted as probabilities p(y = 1 | x)\n",
        "  y_pred_1 = model.predict(X_test)\n",
        "  # Round to get the actual predictions\n",
        "  # Note: has to be flattened since the targets are size (N,) \n",
        "  # while the predictions are size (N,1)\n",
        "  y_pred_2 = np.round(y_pred_1).flatten()\n",
        "\n",
        "  # Calculate the accuracy, compare it to evaluate() output\n",
        "  manuallyCalculatedAccuracy = np.mean(y_pred_2 == y_test)\n",
        "  evaluateOutput = model.evaluate(X_test, y_test)\n",
        "\n",
        "  predictions_result = {\n",
        "      \"y_pred -- outputs of the sigmoid\": y_pred_1,\n",
        "      \"y_predictions\": y_pred_2,\n",
        "      \"Manually calculated accuracy\": manuallyCalculatedAccuracy,\n",
        "      \"Evaluate output\": evaluateOutput\n",
        "  }\n",
        "\n",
        "  return model_result, r, predictions_result"
      ],
      "execution_count": 575,
      "outputs": []
    },
    {
      "cell_type": "code",
      "metadata": {
        "id": "c_IX7UMFFIt0"
      },
      "source": [
        "# show result \n",
        "def show_result(Xtrain, Xtest, ytrain, ytest, numFeatures, optimizer):\n",
        "  output = regressionModel(Xtrain, Xtest, ytrain, ytest, numFeatures, optimizer)[0]\n",
        "  r = regressionModel(Xtrain, Xtest, ytrain, ytest, numFeatures, optimizer)[1]\n",
        "  predictions = regressionModel(Xtrain, Xtest, ytrain, ytest, numFeatures, optimizer)[1]\n",
        "  \n",
        "  # Plot the loss\n",
        "  plt.plot(r.history['loss'], label='loss')\n",
        "  plt.plot(r.history['val_loss'], label='val_loss')\n",
        "  plt.legend()\n",
        "  plt.show()\n",
        "  # Plot the accuracy \n",
        "  plt.plot(r.history['accuracy'], label='acc')\n",
        "  plt.plot(r.history['val_accuracy'], label='val_acc')\n",
        "  plt.legend()\n",
        "  plt.show()\n",
        "\n",
        "  print(\"{} {}\".format(output, predictions))"
      ],
      "execution_count": 576,
      "outputs": []
    },
    {
      "cell_type": "code",
      "metadata": {
        "colab": {
          "base_uri": "https://localhost:8080/",
          "height": 683
        },
        "id": "ssTV8O2FXHV_",
        "outputId": "a890325b-bed4-48f9-f2d2-20fdcdafc785"
      },
      "source": [
        "# Adam optimizer\n",
        "show_result(X_train, X_test, y_train, y_test, numOfFeatures, 'Adam')"
      ],
      "execution_count": 577,
      "outputs": [
        {
          "output_type": "stream",
          "name": "stdout",
          "text": [
            "23/23 [==============================] - 0s 1ms/step - loss: -158.7799 - accuracy: 0.1456\n",
            "10/10 [==============================] - 0s 2ms/step - loss: -132.8153 - accuracy: 0.1133\n",
            "10/10 [==============================] - 0s 2ms/step - loss: -132.8153 - accuracy: 0.1133\n",
            "23/23 [==============================] - 0s 2ms/step - loss: -77.3315 - accuracy: 0.0000e+00\n",
            "10/10 [==============================] - 0s 2ms/step - loss: -71.3137 - accuracy: 0.0000e+00\n",
            "10/10 [==============================] - 0s 2ms/step - loss: -71.3137 - accuracy: 0.0000e+00\n",
            "23/23 [==============================] - 0s 1ms/step - loss: -96.6523 - accuracy: 0.0000e+00\n",
            "10/10 [==============================] - 0s 2ms/step - loss: -85.9333 - accuracy: 0.0000e+00\n",
            "10/10 [==============================] - 0s 2ms/step - loss: -85.9333 - accuracy: 0.0000e+00\n"
          ]
        },
        {
          "output_type": "display_data",
          "data": {
            "image/png": "[encoded data removed]",
            "text/plain": [
              "<Figure size 432x288 with 1 Axes>"
            ]
          },
          "metadata": {
            "needs_background": "light"
          }
        },
        {
          "output_type": "display_data",
          "data": {
            "image/png": "[encoded data removed]",
            "text/plain": [
              "<Figure size 432x288 with 1 Axes>"
            ]
          },
          "metadata": {
            "needs_background": "light"
          }
        },
        {
          "output_type": "stream",
          "name": "stdout",
          "text": [
            "{'Train score': [-158.77989196777344, 0.1456310749053955], 'Test score': [-132.81532287597656, 0.11326860636472702]} <keras.callbacks.History object at 0x7f5f5bbe5490>\n"
          ]
        }
      ]
    },
    {
      "cell_type": "code",
      "metadata": {
        "colab": {
          "base_uri": "https://localhost:8080/",
          "height": 683
        },
        "id": "NHydypk1C4SD",
        "outputId": "869ddbbc-7520-4122-bd2b-3734a42f7055"
      },
      "source": [
        "# SGD optimizer\n",
        "show_result(X_train, X_test, y_train, y_test, numOfFeatures, 'SGD')"
      ],
      "execution_count": 578,
      "outputs": [
        {
          "output_type": "stream",
          "name": "stdout",
          "text": [
            "23/23 [==============================] - 0s 1ms/step - loss: -7949.9556 - accuracy: 0.0000e+00\n",
            "10/10 [==============================] - 0s 1ms/step - loss: -7004.0713 - accuracy: 0.0000e+00\n",
            "10/10 [==============================] - 0s 2ms/step - loss: -7004.0713 - accuracy: 0.0000e+00\n",
            "23/23 [==============================] - 0s 1ms/step - loss: -7969.9863 - accuracy: 0.0000e+00\n",
            "10/10 [==============================] - 0s 2ms/step - loss: -7019.2676 - accuracy: 0.0000e+00\n",
            "10/10 [==============================] - 0s 1ms/step - loss: -7019.2676 - accuracy: 0.0000e+00\n",
            "23/23 [==============================] - 0s 1ms/step - loss: -7979.8413 - accuracy: 0.0000e+00\n",
            "10/10 [==============================] - 0s 1ms/step - loss: -7027.3979 - accuracy: 0.0000e+00\n",
            "10/10 [==============================] - 0s 2ms/step - loss: -7027.3979 - accuracy: 0.0000e+00\n"
          ]
        },
        {
          "output_type": "display_data",
          "data": {
            "image/png": "[encoded data removed]",
            "text/plain": [
              "<Figure size 432x288 with 1 Axes>"
            ]
          },
          "metadata": {
            "needs_background": "light"
          }
        },
        {
          "output_type": "display_data",
          "data": {
            "image/png": "[encoded data removed]",
            "text/plain": [
              "<Figure size 432x288 with 1 Axes>"
            ]
          },
          "metadata": {
            "needs_background": "light"
          }
        },
        {
          "output_type": "stream",
          "name": "stdout",
          "text": [
            "{'Train score': [-7949.95556640625, 0.0], 'Test score': [-7004.0712890625, 0.0]} <keras.callbacks.History object at 0x7f5f5f60dfd0>\n"
          ]
        }
      ]
    },
    {
      "cell_type": "code",
      "metadata": {
        "colab": {
          "base_uri": "https://localhost:8080/",
          "height": 686
        },
        "id": "BYj3xlPCC_rQ",
        "outputId": "b47d1e8e-0dee-4d43-8eb2-6615802f81a6"
      },
      "source": [
        "# rmsprop optimizer\n",
        "show_result(X_train, X_test, y_train, y_test, numOfFeatures, 'RMSprop')"
      ],
      "execution_count": 579,
      "outputs": [
        {
          "output_type": "stream",
          "name": "stdout",
          "text": [
            "23/23 [==============================] - 0s 1ms/step - loss: -124.2909 - accuracy: 0.0749\n",
            "10/10 [==============================] - 0s 1ms/step - loss: -106.8918 - accuracy: 0.0583\n",
            "10/10 [==============================] - 0s 1ms/step - loss: -106.8918 - accuracy: 0.0583\n",
            "23/23 [==============================] - 0s 1ms/step - loss: -150.0413 - accuracy: 0.1262\n",
            "10/10 [==============================] - 0s 2ms/step - loss: -126.3183 - accuracy: 0.1003\n",
            "10/10 [==============================] - 0s 2ms/step - loss: -126.3183 - accuracy: 0.1003\n",
            "23/23 [==============================] - 0s 1ms/step - loss: -80.2928 - accuracy: 0.0000e+00\n",
            "10/10 [==============================] - 0s 2ms/step - loss: -73.6338 - accuracy: 0.0000e+00\n",
            "10/10 [==============================] - 0s 1ms/step - loss: -73.6338 - accuracy: 0.0000e+00\n"
          ]
        },
        {
          "output_type": "display_data",
          "data": {
            "image/png": "[encoded data removed]",
            "text/plain": [
              "<Figure size 432x288 with 1 Axes>"
            ]
          },
          "metadata": {
            "needs_background": "light"
          }
        },
        {
          "output_type": "display_data",
          "data": {
            "image/png": "[encoded data removed]",
            "text/plain": [
              "<Figure size 432x288 with 1 Axes>"
            ]
          },
          "metadata": {
            "needs_background": "light"
          }
        },
        {
          "output_type": "stream",
          "name": "stdout",
          "text": [
            "{'Train score': [-124.29088592529297, 0.07489597797393799], 'Test score': [-106.89178466796875, 0.058252427726984024]} <keras.callbacks.History object at 0x7f5f5efe60d0>\n"
          ]
        }
      ]
    },
    {
      "cell_type": "code",
      "metadata": {
        "colab": {
          "base_uri": "https://localhost:8080/"
        },
        "id": "4FwPcuWXdatl",
        "outputId": "4576a950-533c-4918-b184-28ff7888b69b"
      },
      "source": [
        "# -----------------------------------------------------------------------------*\n",
        "# Part 2 : customers dataset\n",
        "# -----------------------------------------------------------------------------*\n",
        "# show dataset info\n",
        "datasetInfo(dataset_c)\n",
        "\n",
        "def splitCustomerDataset(data, testSize):\n",
        "  # Split the data into the features and the target \n",
        "  # Features\n",
        "  x = data.iloc[:,3:13].values\n",
        "  # Target \n",
        "  y = data.iloc[:,13].values\n",
        "\n",
        "  #Label Encoding Gender\n",
        "  labelencoder_X = LabelEncoder()\n",
        "  x[:, 2] = labelencoder_X.fit_transform(x[:, 2])\n",
        "\n",
        "  #Dealing with the categorical Geography column\n",
        "  onehotencoder = make_column_transformer((OneHotEncoder(),\n",
        "                                           [1]), \n",
        "                                          remainder='passthrough'\n",
        "                                          )\n",
        "  x = onehotencoder.fit_transform(x)\n",
        "\n",
        "  #Removing the extra dummy variable\n",
        "  x = x[:, 1:]\n",
        "\n",
        "  # using 70-30 train-test split.\n",
        "  X_train, X_test, y_train, y_test = train_test_split(x, y, test_size=testSize)\n",
        "\n",
        "  return x, y, X_train, X_test, y_train, y_test"
      ],
      "execution_count": 580,
      "outputs": [
        {
          "output_type": "stream",
          "name": "stdout",
          "text": [
            "<class 'pandas.core.frame.DataFrame'>\n",
            "RangeIndex: 10000 entries, 0 to 9999\n",
            "Data columns (total 14 columns):\n",
            " #   Column           Non-Null Count  Dtype  \n",
            "---  ------           --------------  -----  \n",
            " 0   RowNumber        10000 non-null  int64  \n",
            " 1   CustomerId       10000 non-null  int64  \n",
            " 2   Lastname         10000 non-null  object \n",
            " 3   CreditScore      10000 non-null  int64  \n",
            " 4   Geography        10000 non-null  object \n",
            " 5   Gender           10000 non-null  object \n",
            " 6   Age              10000 non-null  int64  \n",
            " 7   Tenure           10000 non-null  int64  \n",
            " 8   Balance          10000 non-null  float64\n",
            " 9   NumOfProducts    10000 non-null  int64  \n",
            " 10  HasCrCard        10000 non-null  int64  \n",
            " 11  IsActiveMember   10000 non-null  int64  \n",
            " 12  EstimatedSalary  10000 non-null  float64\n",
            " 13  Left             10000 non-null  int64  \n",
            "dtypes: float64(2), int64(9), object(3)\n",
            "memory usage: 1.1+ MB\n",
            "None\n",
            "         RowNumber    CustomerId  ...  EstimatedSalary          Left\n",
            "count  10000.00000  1.000000e+04  ...     10000.000000  10000.000000\n",
            "mean    5000.50000  1.569094e+07  ...    100090.239881      0.203700\n",
            "std     2886.89568  7.193619e+04  ...     57510.492818      0.402769\n",
            "min        1.00000  1.556570e+07  ...        11.580000      0.000000\n",
            "25%     2500.75000  1.562853e+07  ...     51002.110000      0.000000\n",
            "50%     5000.50000  1.569074e+07  ...    100193.915000      0.000000\n",
            "75%     7500.25000  1.575323e+07  ...    149388.247500      0.000000\n",
            "max    10000.00000  1.581569e+07  ...    199992.480000      1.000000\n",
            "\n",
            "[8 rows x 11 columns]\n",
            "   RowNumber  CustomerId  Lastname  ...  IsActiveMember EstimatedSalary Left\n",
            "0          1    15634602  Hargrave  ...               1       101348.88    1\n",
            "1          2    15647311      Hill  ...               1       112542.58    0\n",
            "2          3    15619304      Onio  ...               0       113931.57    1\n",
            "3          4    15701354      Boni  ...               0        93826.63    0\n",
            "4          5    15737888  Mitchell  ...               1        79084.10    0\n",
            "5          6    15574012       Chu  ...               0       149756.71    1\n",
            "6          7    15592531  Bartlett  ...               1        10062.80    0\n",
            "7          8    15656148    Obinna  ...               0       119346.88    1\n",
            "8          9    15792365        He  ...               1        74940.50    0\n",
            "9         10    15592389        H?  ...               1        71725.73    0\n",
            "\n",
            "[10 rows x 14 columns]\n"
          ]
        }
      ]
    },
    {
      "cell_type": "code",
      "metadata": {
        "id": "AJU2O0rINJg3"
      },
      "source": [
        "# Split the Customers data into the features and the target \n",
        "# using 70-30 train-test split.\n",
        "split = splitCustomerDataset(dataset_c, 0.3)\n",
        "\n",
        "# Features\n",
        "x = split[0]\n",
        "# Target \n",
        "y = split[1]\n",
        "\n",
        "X_train = split[2]\n",
        "X_test = split[3] \n",
        "y_train = split[4] \n",
        "y_test = split[5]"
      ],
      "execution_count": 581,
      "outputs": []
    },
    {
      "cell_type": "code",
      "metadata": {
        "colab": {
          "base_uri": "https://localhost:8080/"
        },
        "id": "XEfZyL5fS8Vm",
        "outputId": "70f4e2eb-07e7-4be7-9deb-c7e05c8bacfe"
      },
      "source": [
        "# Normalizing or standardization.\n",
        "scaler = StandardScaler()\n",
        "X_train = scaler.fit_transform(X_train)\n",
        "# we use transform here to avoid data leackage\n",
        "X_test = scaler.transform(X_test)\n",
        "\n",
        "print(\"x_train.shape:\", X_train.shape)\n",
        "print(\"x_test.shape:\", X_test.shape)"
      ],
      "execution_count": 582,
      "outputs": [
        {
          "output_type": "stream",
          "name": "stdout",
          "text": [
            "x_train.shape: (7000, 11)\n",
            "x_test.shape: (3000, 11)\n"
          ]
        }
      ]
    },
    {
      "cell_type": "code",
      "metadata": {
        "id": "VUc31ezvTOjc"
      },
      "source": [
        "# Build the model for customer data\n",
        "# Define the model\n",
        "model = tf.keras.models.Sequential()\n",
        "\n",
        "#Adding a first layer \n",
        "model.add(tf.keras.layers.Dense(units=6, input_shape=[11], activation='relu'))\n",
        "# model.add(tf.keras.layers.Dropout(0.1))\n",
        "#Adding a second hidden layer\n",
        "model.add(tf.keras.layers.Dense(units=6, activation='relu'))\n",
        "# model.add(tf.keras.layers.Dropout(0.1))\n",
        "\n",
        "#Adding an output layer\n",
        "model.add(tf.keras.layers.Dense(units=1, activation='sigmoid'))\n",
        "\n",
        "model.compile(optimizer='adam',\n",
        "              loss='binary_crossentropy',\n",
        "              metrics=['accuracy'])\n"
      ],
      "execution_count": 583,
      "outputs": []
    },
    {
      "cell_type": "code",
      "metadata": {
        "colab": {
          "base_uri": "https://localhost:8080/"
        },
        "id": "q6d7xbwg_c0W",
        "outputId": "4c0e5d9b-e72f-428d-dc8a-42c7398886a4"
      },
      "source": [
        "# Train the model\n",
        "r = model.fit(X_train, y_train, validation_data=(X_test, y_test), epochs=100, verbose=0)\n",
        "\n",
        "# Evaluate the model, prints loss and accuracy\n",
        "print(\"Train score:\", model.evaluate(X_train, y_train))\n",
        "print(\"Test score:\", model.evaluate(X_test, y_test))"
      ],
      "execution_count": 584,
      "outputs": [
        {
          "output_type": "stream",
          "name": "stdout",
          "text": [
            "219/219 [==============================] - 0s 1ms/step - loss: 0.3324 - accuracy: 0.8640\n",
            "Train score: [0.33239126205444336, 0.8640000224113464]\n",
            "94/94 [==============================] - 0s 1ms/step - loss: 0.3432 - accuracy: 0.8607\n",
            "Test score: [0.34321048855781555, 0.8606666922569275]\n"
          ]
        }
      ]
    },
    {
      "cell_type": "code",
      "metadata": {
        "colab": {
          "base_uri": "https://localhost:8080/",
          "height": 282
        },
        "id": "kAIRU4NmTu4G",
        "outputId": "702cad3a-eb25-4ae7-d096-47e1fa91de53"
      },
      "source": [
        "# Plot loss per iteration\n",
        "plt.plot(r.history['loss'], label='loss')\n",
        "plt.plot(r.history['val_loss'], label='val_loss')\n",
        "plt.legend()\n",
        "\n",
        "# Plot accuracy per iteration\n",
        "plt.plot(r.history['accuracy'], label='acc')\n",
        "plt.plot(r.history['val_accuracy'], label='val_acc')\n",
        "plt.legend()"
      ],
      "execution_count": 585,
      "outputs": [
        {
          "output_type": "execute_result",
          "data": {
            "text/plain": [
              "<matplotlib.legend.Legend at 0x7f5f5b993750>"
            ]
          },
          "metadata": {},
          "execution_count": 585
        },
        {
          "output_type": "display_data",
          "data": {
            "image/png": "[encoded data removed]",
            "text/plain": [
              "<Figure size 432x288 with 1 Axes>"
            ]
          },
          "metadata": {
            "needs_background": "light"
          }
        }
      ]
    },
    {
      "cell_type": "code",
      "metadata": {
        "colab": {
          "base_uri": "https://localhost:8080/"
        },
        "id": "YMWSzoisEd3t",
        "outputId": "ddfb858c-43ea-402a-9f5a-23dea9396029"
      },
      "source": [
        "# Making predictions and evaluating the model\n",
        "# Predicting the Test set results\n",
        "y_pred = model.predict(X_test)\n",
        "\n",
        "# perform prediction on the following customer:\n",
        "# •Credit Score: 600 \n",
        "# •Geography: France\n",
        "# •Gender: Male\n",
        "# •Age: 40 years old\n",
        "# •Tenure: 3 years\n",
        "# •Balance: $60000\n",
        "# •Number of Products: 2\n",
        "# •Does this customer have a credit card ? Yes\n",
        "# •Is this customer an Active Member: Yes\n",
        "# •Estimated Salary: $50000\n",
        "customer_prediction = model.predict(scaler.transform(np.array([[0.0, 0, 600, 1, 40, 3, 60000, 2, 1, 1, 50000]])))\n",
        "\n",
        "print(\"Predicting the Test set results: \", y_pred)\n",
        "print(\"Customer Prediction: \", customer_prediction)"
      ],
      "execution_count": 586,
      "outputs": [
        {
          "output_type": "stream",
          "name": "stdout",
          "text": [
            "Predicting the Test set results:  [[0.12442911]\n",
            " [0.03038129]\n",
            " [0.10221779]\n",
            " ...\n",
            " [0.8820944 ]\n",
            " [0.04890329]\n",
            " [0.17299658]]\n",
            "Customer Prediction:  [[0.04123539]]\n"
          ]
        }
      ]
    },
    {
      "cell_type": "code",
      "metadata": {
        "id": "0fFLdSJUG5So"
      },
      "source": [
        "#Confusion Matrix\n",
        "# cm = confusion_matrix(y_test, y_pred)\n",
        "# # cm = confusion_matrix(y_test, customer_prediction)\n",
        "# print(\"               Predicted Label\")\n",
        "# print(cm)"
      ],
      "execution_count": 587,
      "outputs": []
    },
    {
      "cell_type": "code",
      "metadata": {
        "colab": {
          "base_uri": "https://localhost:8080/"
        },
        "id": "cSSMdYTkmF7P",
        "outputId": "a8456887-071b-4f1d-a117-e795078415b8"
      },
      "source": [
        "def buildNN():\n",
        "    # Define the model\n",
        "    model = tf.keras.models.Sequential()\n",
        "\n",
        "    #Adding an input layer and one hidden layer\n",
        "    model.add(tf.keras.layers.Dense(units=6, input_shape=[11], activation='relu'))\n",
        "    model.add(tf.keras.layers.Dropout(0.1))\n",
        "\n",
        "    #Adding a second hidden layer\n",
        "    model.add(tf.keras.layers.Dense(units=6, activation='relu'))\n",
        "    model.add(tf.keras.layers.Dropout(0.1))\n",
        "\n",
        "    #Adding an output layer\n",
        "    model.add(tf.keras.layers.Dense(units=1, activation='sigmoid'))\n",
        "\n",
        "    model.compile(optimizer='adam', loss='binary_crossentropy', metrics=['accuracy'])\n",
        "    \n",
        "    return model\n",
        "\n",
        "classifier = KerasClassifier(build_fn = buildNN, batch_size=10, epochs=100)\n",
        "accuracy = cross_val_score(estimator = classifier, X = X_train, y=y_train, cv=10, n_jobs=-1,verbose=3)\n",
        "\n",
        "accuracy\n",
        "\n",
        "meanAcc = accuracy.mean()\n",
        "stdDevAcc = accuracy.std()\n",
        "\n",
        "meanAcc\n",
        "\n",
        "stdDevAcc\n"
      ],
      "execution_count": null,
      "outputs": [
        {
          "output_type": "stream",
          "name": "stderr",
          "text": [
            "[Parallel(n_jobs=-1)]: Using backend LokyBackend with 2 concurrent workers.\n"
          ]
        }
      ]
    },
    {
      "cell_type": "code",
      "metadata": {
        "id": "cRPFobQpmnwS"
      },
      "source": [
        "# Hyperparameter tuning of Neural Network\n",
        "# def buildNN(optimizer):\n",
        "#     model = tf.keras.models.Sequential()\n",
        "#     model.add(tf.keras.layers.Dense(units=6, input_shape=[11], activation='relu'))\n",
        "#     model.add(tf.keras.layers.Dropout(0.1))\n",
        "#     model.add(tf.keras.layers.Dense(units=6, activation='relu'))\n",
        "#     model.add(tf.keras.layers.Dropout(0.1))\n",
        "#     model.add(tf.keras.layers.Dense(units=1, activation='sigmoid'))\n",
        "#     model.compile(optimizer=optimizer, loss='binary_crossentropy', metrics=['accuracy'])\n",
        "#     return model\n",
        "\n",
        "# classifier = KerasClassifier(build_fn = buildNN)\n",
        "# parameters = {'batch_size':[25,32], 'epochs':[100,500], 'optimizer':['adam','rmsprop']}\n",
        "# grid_search = GridSearchCV(estimator =classifier, param_grid=parameters, scoring='accuracy', cv=10)\n",
        "# grid_search = grid_search.fit(X_train, y_train)\n",
        "# best_param = grid_search.best_params_\n",
        "# best_acc=grid_search.best_score_\n",
        "\n",
        "# print(best_param)\n",
        "# print(best_acc)"
      ],
      "execution_count": null,
      "outputs": []
    },
    {
      "cell_type": "code",
      "metadata": {
        "id": "tZkPbFRvN1Sa"
      },
      "source": [
        "# -----------------------------------------------------------------------------*\n",
        "# Part 3 : OnlineStore dataset\n",
        "# -----------------------------------------------------------------------------*\n",
        "# show online Store dataset info\n",
        "# datasetInfo(dataset_o)\n",
        "\n",
        "def splitOnlineStoreDataset(data):\n",
        "  # Split the data into the features and the target \n",
        "  # Features\n",
        "  x = dataset_o.iloc[:, 0:5].values\n",
        "  # Target \n",
        "  y = dataset_o.iloc[:, 5].values\n",
        "\n",
        "  #Label Encoding Gender\n",
        "  labelencoder_X = LabelEncoder()\n",
        "  x[:, 4] = labelencoder_X.fit_transform(x[:, 4])\n",
        "\n",
        "  # #Dealing with the categorical Geography column\n",
        "  onehotencoder = make_column_transformer((OneHotEncoder(),\n",
        "                                            [1]), \n",
        "                                          remainder='passthrough'\n",
        "                                          )\n",
        "  x = onehotencoder.fit_transform(x)\n",
        "\n",
        "  # #Removing the extra dummy variable\n",
        "  # x = x[:, 1:]\n",
        "\n",
        "  # using 70-30 train-test split.\n",
        "  X_train, X_test, y_train, y_test = train_test_split(x, y, test_size=0.3)\n",
        "\n",
        "  return x, y, X_train, X_test, y_train, y_test"
      ],
      "execution_count": null,
      "outputs": []
    },
    {
      "cell_type": "code",
      "metadata": {
        "id": "KIJkpYupVEWg"
      },
      "source": [
        "# # Split the Customers data into the features and the target \n",
        "split = splitOnlineStoreDataset(dataset_o)\n",
        "\n",
        "# Features\n",
        "x = split[0]\n",
        "# Target \n",
        "y = split[1]\n",
        "\n",
        "X_train = split[2]\n",
        "X_test = split[3] \n",
        "y_train = split[4] \n",
        "y_test = split[5]\n",
        "\n",
        "# Normalizing or standardization.\n",
        "scaler = StandardScaler()\n",
        "X_train = scaler.fit_transform(X_train)\n",
        "# we use transform here to avoid data leackage\n",
        "X_test = scaler.transform(X_test)\n",
        "\n",
        "print(\"x_train.shape:\", X_train.shape)\n",
        "print(\"x_test.shape:\", X_test.shape)"
      ],
      "execution_count": null,
      "outputs": []
    },
    {
      "cell_type": "code",
      "metadata": {
        "id": "ppaKtmpqlxnd"
      },
      "source": [
        "# Define the model\n",
        "model = tf.keras.models.Sequential()\n",
        "\n",
        "#Adding a first layer \n",
        "model.add(tf.keras.layers.Dense(units=6, input_shape=[11], activation='relu'))\n",
        "# model.add(tf.keras.layers.Dropout(0.1))\n",
        "#Adding a second hidden layer\n",
        "model.add(tf.keras.layers.Dense(units=6, activation='relu'))\n",
        "# model.add(tf.keras.layers.Dropout(0.1))\n",
        "\n",
        "#Adding an output layer\n",
        "model.add(tf.keras.layers.Dense(units=1, activation='sigmoid'))\n",
        "\n",
        "model.compile(optimizer='adam',\n",
        "              loss='binary_crossentropy',\n",
        "              metrics=['accuracy'])\n",
        "\n",
        "# Train the model\n",
        "# r = model.fit(X_train, y_train, validation_data=(X_test, y_test), epochs=100, verbose=0)"
      ],
      "execution_count": null,
      "outputs": []
    },
    {
      "cell_type": "code",
      "metadata": {
        "id": "vDxtnaeIrRlj"
      },
      "source": [
        "# Note\n",
        "# I really struggled with Part 3 and was not to complete the before the dealine \n",
        "# I'm doing addiotnal reading on the sectoion. Thanks!"
      ],
      "execution_count": null,
      "outputs": []
    }
  ]
}